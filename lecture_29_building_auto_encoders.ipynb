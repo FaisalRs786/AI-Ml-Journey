{
  "nbformat": 4,
  "nbformat_minor": 0,
  "metadata": {
    "colab": {
      "provenance": [],
      "gpuType": "T4"
    },
    "kernelspec": {
      "name": "python3",
      "display_name": "Python 3"
    },
    "language_info": {
      "name": "python"
    },
    "accelerator": "GPU"
  },
  "cells": [
    {
      "cell_type": "code",
      "execution_count": 137,
      "metadata": {
        "id": "zUmz3N1PvrwA"
      },
      "outputs": [],
      "source": [
        "import tensorflow as tf\n",
        "from tensorflow.keras.datasets import mnist\n",
        "import numpy as np\n",
        "import matplotlib.pyplot as plt"
      ]
    },
    {
      "cell_type": "markdown",
      "source": [
        "# loading dataste"
      ],
      "metadata": {
        "id": "mp3O8za3ydp9"
      }
    },
    {
      "cell_type": "code",
      "source": [
        "(x_train,_),(x_test,_) = mnist.load_data()"
      ],
      "metadata": {
        "id": "i-QjDQncwRfi"
      },
      "execution_count": 138,
      "outputs": []
    },
    {
      "cell_type": "markdown",
      "source": [
        "# display data"
      ],
      "metadata": {
        "id": "oXVNIh9Ly2jg"
      }
    },
    {
      "cell_type": "code",
      "source": [
        "n = 10\n",
        "plt.figure(figsize=(20,4))\n",
        "for i in range(n):\n",
        "  ax = plt.subplot(2,n,i+1)\n",
        "  plt.imshow(x_train[i].reshape(28,28))\n",
        "  plt.gray()\n",
        "  ax.get_xaxis().set_visible(False)\n",
        "  ax.get_yaxis().set_visible(False)\n",
        "plt.show()\n"
      ],
      "metadata": {
        "colab": {
          "base_uri": "https://localhost:8080/",
          "height": 113
        },
        "id": "aMF26kdZy6-7",
        "outputId": "d908e0f8-8171-4b9d-c193-3d6aa66ecaa1"
      },
      "execution_count": 139,
      "outputs": [
        {
          "output_type": "display_data",
          "data": {
            "text/plain": [
              "<Figure size 2000x400 with 10 Axes>"
            ],
            "image/png": "[encoded data removed]"
          },
          "metadata": {}
        }
      ]
    },
    {
      "cell_type": "markdown",
      "source": [
        "# perfrom scalling on data"
      ],
      "metadata": {
        "id": "EMKBqMaC1KPq"
      }
    },
    {
      "cell_type": "code",
      "source": [
        "x_train = x_train.astype('float')/255\n",
        "x_test = x_test.astype('float')/255\n",
        "x_train = x_train.reshape(len(x_train),28,28,1)\n",
        "x_test = x_test.reshape(len(x_test),28,28,1)\n",
        "print(x_train.shape)\n",
        "print(x_test.shape)"
      ],
      "metadata": {
        "colab": {
          "base_uri": "https://localhost:8080/"
        },
        "id": "EwiCHCSp18ew",
        "outputId": "ecf1f782-bc71-410d-f589-a5abad15e3e2"
      },
      "execution_count": 140,
      "outputs": [
        {
          "output_type": "stream",
          "name": "stdout",
          "text": [
            "(60000, 28, 28, 1)\n",
            "(10000, 28, 28, 1)\n"
          ]
        }
      ]
    },
    {
      "cell_type": "markdown",
      "source": [
        "# HERE CREATE AUTOENCODER ARCHITECTURE"
      ],
      "metadata": {
        "id": "8qj6DRrb3NU-"
      }
    },
    {
      "cell_type": "markdown",
      "source": [
        "# Convolutional Autoencoder"
      ],
      "metadata": {
        "id": "YOS79NIG3UH_"
      }
    },
    {
      "cell_type": "code",
      "source": [
        "# import necessaries\n",
        "from tensorflow.keras.layers import Input, Conv2D, MaxPooling2D, UpSampling2D, Flatten, Reshape\n",
        "from keras.models import Model"
      ],
      "metadata": {
        "id": "jj9fj2ex2hZe"
      },
      "execution_count": 141,
      "outputs": []
    },
    {
      "cell_type": "code",
      "source": [
        "input_layer_en = Input(shape=(28,28,1))\n",
        "ae_cnv_en = Conv2D(32,(3,3), activation='relu', padding = 'same', kernel_initializer='he_normal')(input_layer_en)\n",
        "ae_cnv_en = MaxPooling2D((2,2), padding = 'same')(ae_cnv_en)\n",
        "\n",
        "ae_cnv_en = Conv2D(32, (3,3), activation='relu', padding= 'same')(ae_cnv_en)\n",
        "ae_cnv_en = MaxPooling2D((2,2), padding='same')(ae_cnv_en)\n",
        "\n",
        "ae_cnv_en = Conv2D(4, (3,3), activation= 'relu', padding='same')(ae_cnv_en)\n",
        "ae_cnv_en = MaxPooling2D((2,2), padding='same')(ae_cnv_en)\n",
        "\n",
        "ae_cnv_en = Flatten(name = 'bot')(ae_cnv_en)\n",
        "\n",
        "ae_cnv_de = Reshape((4,4,4), input_shape = (64,), name ='botnext0')(ae_cnv_en)\n",
        "\n",
        "ae_cnv_de = Conv2D(4,(3,3), activation='relu', padding='same', name = 'botnext1')(ae_cnv_de)\n",
        "ae_cnv_de = UpSampling2D((2,2), name = 'botnext2')(ae_cnv_de)\n",
        "\n",
        "ae_cnv_de = Conv2D(32,(3,3), activation='relu', padding='same', name = 'botnext3')(ae_cnv_de)\n",
        "ae_cnv_de = UpSampling2D((2,2), name = 'botnext4')(ae_cnv_de)\n",
        "\n",
        "ae_cnv_de = Conv2D(32,(3,3), activation='relu', padding='valid', name = 'botnext5')(ae_cnv_de)\n",
        "ae_cnv_de = UpSampling2D((2,2), name = 'botnext6')(ae_cnv_de)\n",
        "\n",
        "ae_cnv_de = Conv2D(1,(3,3), activation='sigmoid', padding='same', name = 'botnext7')(ae_cnv_de)\n",
        "\n",
        "Ae_Conv = Model(inputs = input_layer_en, outputs = ae_cnv_de)\n",
        "Ae_Conv.compile(optimizer=tf.keras.optimizers.SGD(0.09,clipvalue=2.5),loss='binary_crossentropy', metrics = ['accuracy'])\n",
        "Ae_Conv.summary()"
      ],
      "metadata": {
        "colab": {
          "base_uri": "https://localhost:8080/",
          "height": 709
        },
        "id": "v_WI3UvB5GGg",
        "outputId": "e92018bf-2eaa-49a6-b4e7-fe660f58e4a3"
      },
      "execution_count": 142,
      "outputs": [
        {
          "output_type": "stream",
          "name": "stderr",
          "text": [
            "/usr/local/lib/python3.11/dist-packages/keras/src/layers/reshaping/reshape.py:39: UserWarning: Do not pass an `input_shape`/`input_dim` argument to a layer. When using Sequential models, prefer using an `Input(shape)` object as the first layer in the model instead.\n",
            "  super().__init__(**kwargs)\n"
          ]
        },
        {
          "output_type": "display_data",
          "data": {
            "text/plain": [
              "\u001b[1mModel: \"functional_9\"\u001b[0m\n"
            ],
            "text/html": [
              "<pre style=\"white-space:pre;overflow-x:auto;line-height:normal;font-family:Menlo,'DejaVu Sans Mono',consolas,'Courier New',monospace\"><span style=\"font-weight: bold\">Model: \"functional_9\"</span>\n",
              "</pre>\n"
            ]
          },
          "metadata": {}
        },
        {
          "output_type": "display_data",
          "data": {
            "text/plain": [
              "┏━━━━━━━━━━━━━━━━━━━━━━━━━━━━━━━━━┳━━━━━━━━━━━━━━━━━━━━━━━━┳━━━━━━━━━━━━━━━┓\n",
              "┃\u001b[1m \u001b[0m\u001b[1mLayer (type)                   \u001b[0m\u001b[1m \u001b[0m┃\u001b[1m \u001b[0m\u001b[1mOutput Shape          \u001b[0m\u001b[1m \u001b[0m┃\u001b[1m \u001b[0m\u001b[1m      Param #\u001b[0m\u001b[1m \u001b[0m┃\n",
              "┡━━━━━━━━━━━━━━━━━━━━━━━━━━━━━━━━━╇━━━━━━━━━━━━━━━━━━━━━━━━╇━━━━━━━━━━━━━━━┩\n",
              "│ input_layer_12 (\u001b[38;5;33mInputLayer\u001b[0m)     │ (\u001b[38;5;45mNone\u001b[0m, \u001b[38;5;34m28\u001b[0m, \u001b[38;5;34m28\u001b[0m, \u001b[38;5;34m1\u001b[0m)      │             \u001b[38;5;34m0\u001b[0m │\n",
              "├─────────────────────────────────┼────────────────────────┼───────────────┤\n",
              "│ conv2d_29 (\u001b[38;5;33mConv2D\u001b[0m)              │ (\u001b[38;5;45mNone\u001b[0m, \u001b[38;5;34m28\u001b[0m, \u001b[38;5;34m28\u001b[0m, \u001b[38;5;34m32\u001b[0m)     │           \u001b[38;5;34m320\u001b[0m │\n",
              "├─────────────────────────────────┼────────────────────────┼───────────────┤\n",
              "│ max_pooling2d_27 (\u001b[38;5;33mMaxPooling2D\u001b[0m) │ (\u001b[38;5;45mNone\u001b[0m, \u001b[38;5;34m14\u001b[0m, \u001b[38;5;34m14\u001b[0m, \u001b[38;5;34m32\u001b[0m)     │             \u001b[38;5;34m0\u001b[0m │\n",
              "├─────────────────────────────────┼────────────────────────┼───────────────┤\n",
              "│ conv2d_30 (\u001b[38;5;33mConv2D\u001b[0m)              │ (\u001b[38;5;45mNone\u001b[0m, \u001b[38;5;34m14\u001b[0m, \u001b[38;5;34m14\u001b[0m, \u001b[38;5;34m32\u001b[0m)     │         \u001b[38;5;34m9,248\u001b[0m │\n",
              "├─────────────────────────────────┼────────────────────────┼───────────────┤\n",
              "│ max_pooling2d_28 (\u001b[38;5;33mMaxPooling2D\u001b[0m) │ (\u001b[38;5;45mNone\u001b[0m, \u001b[38;5;34m7\u001b[0m, \u001b[38;5;34m7\u001b[0m, \u001b[38;5;34m32\u001b[0m)       │             \u001b[38;5;34m0\u001b[0m │\n",
              "├─────────────────────────────────┼────────────────────────┼───────────────┤\n",
              "│ conv2d_31 (\u001b[38;5;33mConv2D\u001b[0m)              │ (\u001b[38;5;45mNone\u001b[0m, \u001b[38;5;34m7\u001b[0m, \u001b[38;5;34m7\u001b[0m, \u001b[38;5;34m4\u001b[0m)        │         \u001b[38;5;34m1,156\u001b[0m │\n",
              "├─────────────────────────────────┼────────────────────────┼───────────────┤\n",
              "│ max_pooling2d_29 (\u001b[38;5;33mMaxPooling2D\u001b[0m) │ (\u001b[38;5;45mNone\u001b[0m, \u001b[38;5;34m4\u001b[0m, \u001b[38;5;34m4\u001b[0m, \u001b[38;5;34m4\u001b[0m)        │             \u001b[38;5;34m0\u001b[0m │\n",
              "├─────────────────────────────────┼────────────────────────┼───────────────┤\n",
              "│ bot (\u001b[38;5;33mFlatten\u001b[0m)                   │ (\u001b[38;5;45mNone\u001b[0m, \u001b[38;5;34m64\u001b[0m)             │             \u001b[38;5;34m0\u001b[0m │\n",
              "├─────────────────────────────────┼────────────────────────┼───────────────┤\n",
              "│ botnext0 (\u001b[38;5;33mReshape\u001b[0m)              │ (\u001b[38;5;45mNone\u001b[0m, \u001b[38;5;34m4\u001b[0m, \u001b[38;5;34m4\u001b[0m, \u001b[38;5;34m4\u001b[0m)        │             \u001b[38;5;34m0\u001b[0m │\n",
              "├─────────────────────────────────┼────────────────────────┼───────────────┤\n",
              "│ botnext1 (\u001b[38;5;33mConv2D\u001b[0m)               │ (\u001b[38;5;45mNone\u001b[0m, \u001b[38;5;34m4\u001b[0m, \u001b[38;5;34m4\u001b[0m, \u001b[38;5;34m4\u001b[0m)        │           \u001b[38;5;34m148\u001b[0m │\n",
              "├─────────────────────────────────┼────────────────────────┼───────────────┤\n",
              "│ botnext2 (\u001b[38;5;33mUpSampling2D\u001b[0m)         │ (\u001b[38;5;45mNone\u001b[0m, \u001b[38;5;34m8\u001b[0m, \u001b[38;5;34m8\u001b[0m, \u001b[38;5;34m4\u001b[0m)        │             \u001b[38;5;34m0\u001b[0m │\n",
              "├─────────────────────────────────┼────────────────────────┼───────────────┤\n",
              "│ botnext3 (\u001b[38;5;33mConv2D\u001b[0m)               │ (\u001b[38;5;45mNone\u001b[0m, \u001b[38;5;34m8\u001b[0m, \u001b[38;5;34m8\u001b[0m, \u001b[38;5;34m32\u001b[0m)       │         \u001b[38;5;34m1,184\u001b[0m │\n",
              "├─────────────────────────────────┼────────────────────────┼───────────────┤\n",
              "│ botnext4 (\u001b[38;5;33mUpSampling2D\u001b[0m)         │ (\u001b[38;5;45mNone\u001b[0m, \u001b[38;5;34m16\u001b[0m, \u001b[38;5;34m16\u001b[0m, \u001b[38;5;34m32\u001b[0m)     │             \u001b[38;5;34m0\u001b[0m │\n",
              "├─────────────────────────────────┼────────────────────────┼───────────────┤\n",
              "│ botnext5 (\u001b[38;5;33mConv2D\u001b[0m)               │ (\u001b[38;5;45mNone\u001b[0m, \u001b[38;5;34m14\u001b[0m, \u001b[38;5;34m14\u001b[0m, \u001b[38;5;34m32\u001b[0m)     │         \u001b[38;5;34m9,248\u001b[0m │\n",
              "├─────────────────────────────────┼────────────────────────┼───────────────┤\n",
              "│ botnext6 (\u001b[38;5;33mUpSampling2D\u001b[0m)         │ (\u001b[38;5;45mNone\u001b[0m, \u001b[38;5;34m28\u001b[0m, \u001b[38;5;34m28\u001b[0m, \u001b[38;5;34m32\u001b[0m)     │             \u001b[38;5;34m0\u001b[0m │\n",
              "├─────────────────────────────────┼────────────────────────┼───────────────┤\n",
              "│ botnext7 (\u001b[38;5;33mConv2D\u001b[0m)               │ (\u001b[38;5;45mNone\u001b[0m, \u001b[38;5;34m28\u001b[0m, \u001b[38;5;34m28\u001b[0m, \u001b[38;5;34m1\u001b[0m)      │           \u001b[38;5;34m289\u001b[0m │\n",
              "└─────────────────────────────────┴────────────────────────┴───────────────┘\n"
            ],
            "text/html": [
              "<pre style=\"white-space:pre;overflow-x:auto;line-height:normal;font-family:Menlo,'DejaVu Sans Mono',consolas,'Courier New',monospace\">┏━━━━━━━━━━━━━━━━━━━━━━━━━━━━━━━━━┳━━━━━━━━━━━━━━━━━━━━━━━━┳━━━━━━━━━━━━━━━┓\n",
              "┃<span style=\"font-weight: bold\"> Layer (type)                    </span>┃<span style=\"font-weight: bold\"> Output Shape           </span>┃<span style=\"font-weight: bold\">       Param # </span>┃\n",
              "┡━━━━━━━━━━━━━━━━━━━━━━━━━━━━━━━━━╇━━━━━━━━━━━━━━━━━━━━━━━━╇━━━━━━━━━━━━━━━┩\n",
              "│ input_layer_12 (<span style=\"color: #0087ff; text-decoration-color: #0087ff\">InputLayer</span>)     │ (<span style=\"color: #00d7ff; text-decoration-color: #00d7ff\">None</span>, <span style=\"color: #00af00; text-decoration-color: #00af00\">28</span>, <span style=\"color: #00af00; text-decoration-color: #00af00\">28</span>, <span style=\"color: #00af00; text-decoration-color: #00af00\">1</span>)      │             <span style=\"color: #00af00; text-decoration-color: #00af00\">0</span> │\n",
              "├─────────────────────────────────┼────────────────────────┼───────────────┤\n",
              "│ conv2d_29 (<span style=\"color: #0087ff; text-decoration-color: #0087ff\">Conv2D</span>)              │ (<span style=\"color: #00d7ff; text-decoration-color: #00d7ff\">None</span>, <span style=\"color: #00af00; text-decoration-color: #00af00\">28</span>, <span style=\"color: #00af00; text-decoration-color: #00af00\">28</span>, <span style=\"color: #00af00; text-decoration-color: #00af00\">32</span>)     │           <span style=\"color: #00af00; text-decoration-color: #00af00\">320</span> │\n",
              "├─────────────────────────────────┼────────────────────────┼───────────────┤\n",
              "│ max_pooling2d_27 (<span style=\"color: #0087ff; text-decoration-color: #0087ff\">MaxPooling2D</span>) │ (<span style=\"color: #00d7ff; text-decoration-color: #00d7ff\">None</span>, <span style=\"color: #00af00; text-decoration-color: #00af00\">14</span>, <span style=\"color: #00af00; text-decoration-color: #00af00\">14</span>, <span style=\"color: #00af00; text-decoration-color: #00af00\">32</span>)     │             <span style=\"color: #00af00; text-decoration-color: #00af00\">0</span> │\n",
              "├─────────────────────────────────┼────────────────────────┼───────────────┤\n",
              "│ conv2d_30 (<span style=\"color: #0087ff; text-decoration-color: #0087ff\">Conv2D</span>)              │ (<span style=\"color: #00d7ff; text-decoration-color: #00d7ff\">None</span>, <span style=\"color: #00af00; text-decoration-color: #00af00\">14</span>, <span style=\"color: #00af00; text-decoration-color: #00af00\">14</span>, <span style=\"color: #00af00; text-decoration-color: #00af00\">32</span>)     │         <span style=\"color: #00af00; text-decoration-color: #00af00\">9,248</span> │\n",
              "├─────────────────────────────────┼────────────────────────┼───────────────┤\n",
              "│ max_pooling2d_28 (<span style=\"color: #0087ff; text-decoration-color: #0087ff\">MaxPooling2D</span>) │ (<span style=\"color: #00d7ff; text-decoration-color: #00d7ff\">None</span>, <span style=\"color: #00af00; text-decoration-color: #00af00\">7</span>, <span style=\"color: #00af00; text-decoration-color: #00af00\">7</span>, <span style=\"color: #00af00; text-decoration-color: #00af00\">32</span>)       │             <span style=\"color: #00af00; text-decoration-color: #00af00\">0</span> │\n",
              "├─────────────────────────────────┼────────────────────────┼───────────────┤\n",
              "│ conv2d_31 (<span style=\"color: #0087ff; text-decoration-color: #0087ff\">Conv2D</span>)              │ (<span style=\"color: #00d7ff; text-decoration-color: #00d7ff\">None</span>, <span style=\"color: #00af00; text-decoration-color: #00af00\">7</span>, <span style=\"color: #00af00; text-decoration-color: #00af00\">7</span>, <span style=\"color: #00af00; text-decoration-color: #00af00\">4</span>)        │         <span style=\"color: #00af00; text-decoration-color: #00af00\">1,156</span> │\n",
              "├─────────────────────────────────┼────────────────────────┼───────────────┤\n",
              "│ max_pooling2d_29 (<span style=\"color: #0087ff; text-decoration-color: #0087ff\">MaxPooling2D</span>) │ (<span style=\"color: #00d7ff; text-decoration-color: #00d7ff\">None</span>, <span style=\"color: #00af00; text-decoration-color: #00af00\">4</span>, <span style=\"color: #00af00; text-decoration-color: #00af00\">4</span>, <span style=\"color: #00af00; text-decoration-color: #00af00\">4</span>)        │             <span style=\"color: #00af00; text-decoration-color: #00af00\">0</span> │\n",
              "├─────────────────────────────────┼────────────────────────┼───────────────┤\n",
              "│ bot (<span style=\"color: #0087ff; text-decoration-color: #0087ff\">Flatten</span>)                   │ (<span style=\"color: #00d7ff; text-decoration-color: #00d7ff\">None</span>, <span style=\"color: #00af00; text-decoration-color: #00af00\">64</span>)             │             <span style=\"color: #00af00; text-decoration-color: #00af00\">0</span> │\n",
              "├─────────────────────────────────┼────────────────────────┼───────────────┤\n",
              "│ botnext0 (<span style=\"color: #0087ff; text-decoration-color: #0087ff\">Reshape</span>)              │ (<span style=\"color: #00d7ff; text-decoration-color: #00d7ff\">None</span>, <span style=\"color: #00af00; text-decoration-color: #00af00\">4</span>, <span style=\"color: #00af00; text-decoration-color: #00af00\">4</span>, <span style=\"color: #00af00; text-decoration-color: #00af00\">4</span>)        │             <span style=\"color: #00af00; text-decoration-color: #00af00\">0</span> │\n",
              "├─────────────────────────────────┼────────────────────────┼───────────────┤\n",
              "│ botnext1 (<span style=\"color: #0087ff; text-decoration-color: #0087ff\">Conv2D</span>)               │ (<span style=\"color: #00d7ff; text-decoration-color: #00d7ff\">None</span>, <span style=\"color: #00af00; text-decoration-color: #00af00\">4</span>, <span style=\"color: #00af00; text-decoration-color: #00af00\">4</span>, <span style=\"color: #00af00; text-decoration-color: #00af00\">4</span>)        │           <span style=\"color: #00af00; text-decoration-color: #00af00\">148</span> │\n",
              "├─────────────────────────────────┼────────────────────────┼───────────────┤\n",
              "│ botnext2 (<span style=\"color: #0087ff; text-decoration-color: #0087ff\">UpSampling2D</span>)         │ (<span style=\"color: #00d7ff; text-decoration-color: #00d7ff\">None</span>, <span style=\"color: #00af00; text-decoration-color: #00af00\">8</span>, <span style=\"color: #00af00; text-decoration-color: #00af00\">8</span>, <span style=\"color: #00af00; text-decoration-color: #00af00\">4</span>)        │             <span style=\"color: #00af00; text-decoration-color: #00af00\">0</span> │\n",
              "├─────────────────────────────────┼────────────────────────┼───────────────┤\n",
              "│ botnext3 (<span style=\"color: #0087ff; text-decoration-color: #0087ff\">Conv2D</span>)               │ (<span style=\"color: #00d7ff; text-decoration-color: #00d7ff\">None</span>, <span style=\"color: #00af00; text-decoration-color: #00af00\">8</span>, <span style=\"color: #00af00; text-decoration-color: #00af00\">8</span>, <span style=\"color: #00af00; text-decoration-color: #00af00\">32</span>)       │         <span style=\"color: #00af00; text-decoration-color: #00af00\">1,184</span> │\n",
              "├─────────────────────────────────┼────────────────────────┼───────────────┤\n",
              "│ botnext4 (<span style=\"color: #0087ff; text-decoration-color: #0087ff\">UpSampling2D</span>)         │ (<span style=\"color: #00d7ff; text-decoration-color: #00d7ff\">None</span>, <span style=\"color: #00af00; text-decoration-color: #00af00\">16</span>, <span style=\"color: #00af00; text-decoration-color: #00af00\">16</span>, <span style=\"color: #00af00; text-decoration-color: #00af00\">32</span>)     │             <span style=\"color: #00af00; text-decoration-color: #00af00\">0</span> │\n",
              "├─────────────────────────────────┼────────────────────────┼───────────────┤\n",
              "│ botnext5 (<span style=\"color: #0087ff; text-decoration-color: #0087ff\">Conv2D</span>)               │ (<span style=\"color: #00d7ff; text-decoration-color: #00d7ff\">None</span>, <span style=\"color: #00af00; text-decoration-color: #00af00\">14</span>, <span style=\"color: #00af00; text-decoration-color: #00af00\">14</span>, <span style=\"color: #00af00; text-decoration-color: #00af00\">32</span>)     │         <span style=\"color: #00af00; text-decoration-color: #00af00\">9,248</span> │\n",
              "├─────────────────────────────────┼────────────────────────┼───────────────┤\n",
              "│ botnext6 (<span style=\"color: #0087ff; text-decoration-color: #0087ff\">UpSampling2D</span>)         │ (<span style=\"color: #00d7ff; text-decoration-color: #00d7ff\">None</span>, <span style=\"color: #00af00; text-decoration-color: #00af00\">28</span>, <span style=\"color: #00af00; text-decoration-color: #00af00\">28</span>, <span style=\"color: #00af00; text-decoration-color: #00af00\">32</span>)     │             <span style=\"color: #00af00; text-decoration-color: #00af00\">0</span> │\n",
              "├─────────────────────────────────┼────────────────────────┼───────────────┤\n",
              "│ botnext7 (<span style=\"color: #0087ff; text-decoration-color: #0087ff\">Conv2D</span>)               │ (<span style=\"color: #00d7ff; text-decoration-color: #00d7ff\">None</span>, <span style=\"color: #00af00; text-decoration-color: #00af00\">28</span>, <span style=\"color: #00af00; text-decoration-color: #00af00\">28</span>, <span style=\"color: #00af00; text-decoration-color: #00af00\">1</span>)      │           <span style=\"color: #00af00; text-decoration-color: #00af00\">289</span> │\n",
              "└─────────────────────────────────┴────────────────────────┴───────────────┘\n",
              "</pre>\n"
            ]
          },
          "metadata": {}
        },
        {
          "output_type": "display_data",
          "data": {
            "text/plain": [
              "\u001b[1m Total params: \u001b[0m\u001b[38;5;34m21,593\u001b[0m (84.35 KB)\n"
            ],
            "text/html": [
              "<pre style=\"white-space:pre;overflow-x:auto;line-height:normal;font-family:Menlo,'DejaVu Sans Mono',consolas,'Courier New',monospace\"><span style=\"font-weight: bold\"> Total params: </span><span style=\"color: #00af00; text-decoration-color: #00af00\">21,593</span> (84.35 KB)\n",
              "</pre>\n"
            ]
          },
          "metadata": {}
        },
        {
          "output_type": "display_data",
          "data": {
            "text/plain": [
              "\u001b[1m Trainable params: \u001b[0m\u001b[38;5;34m21,593\u001b[0m (84.35 KB)\n"
            ],
            "text/html": [
              "<pre style=\"white-space:pre;overflow-x:auto;line-height:normal;font-family:Menlo,'DejaVu Sans Mono',consolas,'Courier New',monospace\"><span style=\"font-weight: bold\"> Trainable params: </span><span style=\"color: #00af00; text-decoration-color: #00af00\">21,593</span> (84.35 KB)\n",
              "</pre>\n"
            ]
          },
          "metadata": {}
        },
        {
          "output_type": "display_data",
          "data": {
            "text/plain": [
              "\u001b[1m Non-trainable params: \u001b[0m\u001b[38;5;34m0\u001b[0m (0.00 B)\n"
            ],
            "text/html": [
              "<pre style=\"white-space:pre;overflow-x:auto;line-height:normal;font-family:Menlo,'DejaVu Sans Mono',consolas,'Courier New',monospace\"><span style=\"font-weight: bold\"> Non-trainable params: </span><span style=\"color: #00af00; text-decoration-color: #00af00\">0</span> (0.00 B)\n",
              "</pre>\n"
            ]
          },
          "metadata": {}
        }
      ]
    },
    {
      "cell_type": "markdown",
      "source": [
        "# reshaping the data"
      ],
      "metadata": {
        "id": "BwaHF_rvA9yL"
      }
    },
    {
      "cell_type": "code",
      "source": [
        "print(x_train.shape)\n",
        "print(x_test.shape)"
      ],
      "metadata": {
        "colab": {
          "base_uri": "https://localhost:8080/"
        },
        "id": "zCEy5PITBZD7",
        "outputId": "9ef2fc85-b029-4552-c89f-5233e909e63d"
      },
      "execution_count": 143,
      "outputs": [
        {
          "output_type": "stream",
          "name": "stdout",
          "text": [
            "(60000, 28, 28, 1)\n",
            "(10000, 28, 28, 1)\n"
          ]
        }
      ]
    },
    {
      "cell_type": "code",
      "source": [
        "x_train = x_train.reshape(x_train.shape[0],28,28,1)\n",
        "x_test = x_test.reshape(x_test.shape[0],28,28,1)\n",
        "print(x_train.shape)\n",
        "print(x_test.shape)"
      ],
      "metadata": {
        "colab": {
          "base_uri": "https://localhost:8080/"
        },
        "id": "MwAd8w1pBCjO",
        "outputId": "fa79b530-1ff8-48dd-a67c-72b5a6c93251"
      },
      "execution_count": 144,
      "outputs": [
        {
          "output_type": "stream",
          "name": "stdout",
          "text": [
            "(60000, 28, 28, 1)\n",
            "(10000, 28, 28, 1)\n"
          ]
        }
      ]
    },
    {
      "cell_type": "markdown",
      "source": [
        "# here training the AutoEncoder"
      ],
      "metadata": {
        "id": "xruttuzvBB5F"
      }
    },
    {
      "cell_type": "code",
      "source": [
        "Ae_Conv.fit(\n",
        "    x_train,\n",
        "    x_train,\n",
        "    epochs = 100,\n",
        "    batch_size = 1024,\n",
        "    shuffle = True,\n",
        "    validation_split = 0.2,\n",
        "    verbose = 2\n",
        ")"
      ],
      "metadata": {
        "colab": {
          "base_uri": "https://localhost:8080/"
        },
        "id": "MY4hwvosCDMA",
        "outputId": "e65a2a20-7bae-46eb-f69f-acf2366b8f04"
      },
      "execution_count": 145,
      "outputs": [
        {
          "output_type": "stream",
          "name": "stdout",
          "text": [
            "Epoch 1/100\n",
            "47/47 - 6s - 129ms/step - accuracy: 0.7955 - loss: 0.4414 - val_accuracy: 0.8093 - val_loss: 0.3221\n",
            "Epoch 2/100\n",
            "47/47 - 1s - 31ms/step - accuracy: 0.7942 - loss: 0.2696 - val_accuracy: 0.7815 - val_loss: 0.2411\n",
            "Epoch 3/100\n",
            "47/47 - 1s - 30ms/step - accuracy: 0.7899 - loss: 0.2337 - val_accuracy: 0.8009 - val_loss: 0.2269\n",
            "Epoch 4/100\n",
            "47/47 - 1s - 30ms/step - accuracy: 0.7883 - loss: 0.2230 - val_accuracy: 0.7739 - val_loss: 0.2213\n",
            "Epoch 5/100\n",
            "47/47 - 1s - 31ms/step - accuracy: 0.7870 - loss: 0.2162 - val_accuracy: 0.7975 - val_loss: 0.2130\n",
            "Epoch 6/100\n",
            "47/47 - 1s - 31ms/step - accuracy: 0.7875 - loss: 0.2112 - val_accuracy: 0.7738 - val_loss: 0.2126\n",
            "Epoch 7/100\n",
            "47/47 - 3s - 54ms/step - accuracy: 0.7876 - loss: 0.2071 - val_accuracy: 0.7987 - val_loss: 0.2067\n",
            "Epoch 8/100\n",
            "47/47 - 3s - 54ms/step - accuracy: 0.7888 - loss: 0.2034 - val_accuracy: 0.7810 - val_loss: 0.2016\n",
            "Epoch 9/100\n",
            "47/47 - 1s - 30ms/step - accuracy: 0.7893 - loss: 0.1995 - val_accuracy: 0.7992 - val_loss: 0.1977\n",
            "Epoch 10/100\n",
            "47/47 - 1s - 31ms/step - accuracy: 0.7904 - loss: 0.1957 - val_accuracy: 0.7818 - val_loss: 0.1938\n",
            "Epoch 11/100\n",
            "47/47 - 3s - 54ms/step - accuracy: 0.7908 - loss: 0.1920 - val_accuracy: 0.8005 - val_loss: 0.1896\n",
            "Epoch 12/100\n",
            "47/47 - 1s - 31ms/step - accuracy: 0.7919 - loss: 0.1886 - val_accuracy: 0.7812 - val_loss: 0.1899\n",
            "Epoch 13/100\n",
            "47/47 - 2s - 53ms/step - accuracy: 0.7921 - loss: 0.1856 - val_accuracy: 0.8014 - val_loss: 0.1844\n",
            "Epoch 14/100\n",
            "47/47 - 3s - 54ms/step - accuracy: 0.7930 - loss: 0.1826 - val_accuracy: 0.7855 - val_loss: 0.1823\n",
            "Epoch 15/100\n",
            "47/47 - 1s - 31ms/step - accuracy: 0.7933 - loss: 0.1800 - val_accuracy: 0.8014 - val_loss: 0.1785\n",
            "Epoch 16/100\n",
            "47/47 - 3s - 54ms/step - accuracy: 0.7941 - loss: 0.1777 - val_accuracy: 0.7887 - val_loss: 0.1765\n",
            "Epoch 17/100\n",
            "47/47 - 3s - 55ms/step - accuracy: 0.7945 - loss: 0.1755 - val_accuracy: 0.8017 - val_loss: 0.1746\n",
            "Epoch 18/100\n",
            "47/47 - 2s - 53ms/step - accuracy: 0.7952 - loss: 0.1738 - val_accuracy: 0.7889 - val_loss: 0.1734\n",
            "Epoch 19/100\n",
            "47/47 - 1s - 30ms/step - accuracy: 0.7955 - loss: 0.1716 - val_accuracy: 0.8024 - val_loss: 0.1706\n",
            "Epoch 20/100\n",
            "47/47 - 3s - 55ms/step - accuracy: 0.7963 - loss: 0.1700 - val_accuracy: 0.7892 - val_loss: 0.1715\n",
            "Epoch 21/100\n",
            "47/47 - 1s - 30ms/step - accuracy: 0.7966 - loss: 0.1681 - val_accuracy: 0.8035 - val_loss: 0.1676\n",
            "Epoch 22/100\n",
            "47/47 - 3s - 55ms/step - accuracy: 0.7974 - loss: 0.1661 - val_accuracy: 0.7913 - val_loss: 0.1686\n",
            "Epoch 23/100\n",
            "47/47 - 1s - 32ms/step - accuracy: 0.7978 - loss: 0.1643 - val_accuracy: 0.8050 - val_loss: 0.1661\n",
            "Epoch 24/100\n",
            "47/47 - 2s - 53ms/step - accuracy: 0.7984 - loss: 0.1632 - val_accuracy: 0.7943 - val_loss: 0.1628\n",
            "Epoch 25/100\n",
            "47/47 - 2s - 53ms/step - accuracy: 0.7987 - loss: 0.1608 - val_accuracy: 0.8043 - val_loss: 0.1611\n",
            "Epoch 26/100\n",
            "47/47 - 1s - 30ms/step - accuracy: 0.7991 - loss: 0.1606 - val_accuracy: 0.7957 - val_loss: 0.1594\n",
            "Epoch 27/100\n",
            "47/47 - 3s - 55ms/step - accuracy: 0.7995 - loss: 0.1580 - val_accuracy: 0.8055 - val_loss: 0.1603\n",
            "Epoch 28/100\n",
            "47/47 - 3s - 54ms/step - accuracy: 0.8000 - loss: 0.1569 - val_accuracy: 0.7960 - val_loss: 0.1577\n",
            "Epoch 29/100\n",
            "47/47 - 2s - 53ms/step - accuracy: 0.8001 - loss: 0.1558 - val_accuracy: 0.8053 - val_loss: 0.1566\n",
            "Epoch 30/100\n",
            "47/47 - 1s - 30ms/step - accuracy: 0.8006 - loss: 0.1547 - val_accuracy: 0.7988 - val_loss: 0.1527\n",
            "Epoch 31/100\n",
            "47/47 - 3s - 54ms/step - accuracy: 0.8008 - loss: 0.1533 - val_accuracy: 0.8058 - val_loss: 0.1537\n",
            "Epoch 32/100\n",
            "47/47 - 3s - 54ms/step - accuracy: 0.8010 - loss: 0.1529 - val_accuracy: 0.8000 - val_loss: 0.1509\n",
            "Epoch 33/100\n",
            "47/47 - 3s - 55ms/step - accuracy: 0.8012 - loss: 0.1514 - val_accuracy: 0.8051 - val_loss: 0.1503\n",
            "Epoch 34/100\n",
            "47/47 - 2s - 32ms/step - accuracy: 0.8015 - loss: 0.1509 - val_accuracy: 0.7982 - val_loss: 0.1514\n",
            "Epoch 35/100\n",
            "47/47 - 2s - 53ms/step - accuracy: 0.8017 - loss: 0.1495 - val_accuracy: 0.8057 - val_loss: 0.1486\n",
            "Epoch 36/100\n",
            "47/47 - 1s - 30ms/step - accuracy: 0.8019 - loss: 0.1490 - val_accuracy: 0.8000 - val_loss: 0.1482\n",
            "Epoch 37/100\n",
            "47/47 - 3s - 54ms/step - accuracy: 0.8021 - loss: 0.1477 - val_accuracy: 0.8062 - val_loss: 0.1483\n",
            "Epoch 38/100\n",
            "47/47 - 1s - 30ms/step - accuracy: 0.8023 - loss: 0.1474 - val_accuracy: 0.7991 - val_loss: 0.1477\n",
            "Epoch 39/100\n",
            "47/47 - 3s - 55ms/step - accuracy: 0.8023 - loss: 0.1467 - val_accuracy: 0.8053 - val_loss: 0.1451\n",
            "Epoch 40/100\n",
            "47/47 - 3s - 54ms/step - accuracy: 0.8026 - loss: 0.1457 - val_accuracy: 0.8007 - val_loss: 0.1451\n",
            "Epoch 41/100\n",
            "47/47 - 1s - 31ms/step - accuracy: 0.8026 - loss: 0.1462 - val_accuracy: 0.8062 - val_loss: 0.1445\n",
            "Epoch 42/100\n",
            "47/47 - 3s - 54ms/step - accuracy: 0.8028 - loss: 0.1448 - val_accuracy: 0.7990 - val_loss: 0.1481\n",
            "Epoch 43/100\n",
            "47/47 - 1s - 31ms/step - accuracy: 0.8029 - loss: 0.1445 - val_accuracy: 0.8074 - val_loss: 0.1465\n",
            "Epoch 44/100\n",
            "47/47 - 1s - 31ms/step - accuracy: 0.8032 - loss: 0.1432 - val_accuracy: 0.7983 - val_loss: 0.1477\n",
            "Epoch 45/100\n",
            "47/47 - 3s - 55ms/step - accuracy: 0.8031 - loss: 0.1437 - val_accuracy: 0.8066 - val_loss: 0.1419\n",
            "Epoch 46/100\n",
            "47/47 - 2s - 53ms/step - accuracy: 0.8034 - loss: 0.1428 - val_accuracy: 0.8014 - val_loss: 0.1422\n",
            "Epoch 47/100\n",
            "47/47 - 3s - 54ms/step - accuracy: 0.8034 - loss: 0.1420 - val_accuracy: 0.8072 - val_loss: 0.1419\n",
            "Epoch 48/100\n",
            "47/47 - 3s - 55ms/step - accuracy: 0.8036 - loss: 0.1422 - val_accuracy: 0.8010 - val_loss: 0.1426\n",
            "Epoch 49/100\n",
            "47/47 - 1s - 30ms/step - accuracy: 0.8035 - loss: 0.1416 - val_accuracy: 0.8070 - val_loss: 0.1409\n",
            "Epoch 50/100\n",
            "47/47 - 1s - 30ms/step - accuracy: 0.8039 - loss: 0.1403 - val_accuracy: 0.8015 - val_loss: 0.1412\n",
            "Epoch 51/100\n",
            "47/47 - 2s - 32ms/step - accuracy: 0.8039 - loss: 0.1403 - val_accuracy: 0.8079 - val_loss: 0.1426\n",
            "Epoch 52/100\n",
            "47/47 - 2s - 52ms/step - accuracy: 0.8040 - loss: 0.1400 - val_accuracy: 0.8020 - val_loss: 0.1413\n",
            "Epoch 53/100\n",
            "47/47 - 3s - 54ms/step - accuracy: 0.8040 - loss: 0.1396 - val_accuracy: 0.8072 - val_loss: 0.1397\n",
            "Epoch 54/100\n",
            "47/47 - 1s - 30ms/step - accuracy: 0.8042 - loss: 0.1389 - val_accuracy: 0.8033 - val_loss: 0.1384\n",
            "Epoch 55/100\n",
            "47/47 - 1s - 30ms/step - accuracy: 0.8042 - loss: 0.1383 - val_accuracy: 0.8065 - val_loss: 0.1364\n",
            "Epoch 56/100\n",
            "47/47 - 3s - 54ms/step - accuracy: 0.8044 - loss: 0.1383 - val_accuracy: 0.8021 - val_loss: 0.1389\n",
            "Epoch 57/100\n",
            "47/47 - 1s - 31ms/step - accuracy: 0.8044 - loss: 0.1371 - val_accuracy: 0.8079 - val_loss: 0.1377\n",
            "Epoch 58/100\n",
            "47/47 - 2s - 53ms/step - accuracy: 0.8046 - loss: 0.1380 - val_accuracy: 0.8020 - val_loss: 0.1388\n",
            "Epoch 59/100\n",
            "47/47 - 1s - 30ms/step - accuracy: 0.8046 - loss: 0.1369 - val_accuracy: 0.8057 - val_loss: 0.1368\n",
            "Epoch 60/100\n",
            "47/47 - 1s - 30ms/step - accuracy: 0.8046 - loss: 0.1372 - val_accuracy: 0.8029 - val_loss: 0.1373\n",
            "Epoch 61/100\n",
            "47/47 - 1s - 31ms/step - accuracy: 0.8048 - loss: 0.1361 - val_accuracy: 0.8080 - val_loss: 0.1368\n",
            "Epoch 62/100\n",
            "47/47 - 3s - 54ms/step - accuracy: 0.8049 - loss: 0.1352 - val_accuracy: 0.8090 - val_loss: 0.1412\n",
            "Epoch 63/100\n",
            "47/47 - 1s - 31ms/step - accuracy: 0.8049 - loss: 0.1366 - val_accuracy: 0.8025 - val_loss: 0.1373\n",
            "Epoch 64/100\n",
            "47/47 - 2s - 32ms/step - accuracy: 0.8050 - loss: 0.1354 - val_accuracy: 0.8056 - val_loss: 0.1343\n",
            "Epoch 65/100\n",
            "47/47 - 1s - 31ms/step - accuracy: 0.8050 - loss: 0.1352 - val_accuracy: 0.8037 - val_loss: 0.1351\n",
            "Epoch 66/100\n",
            "47/47 - 3s - 53ms/step - accuracy: 0.8051 - loss: 0.1345 - val_accuracy: 0.8074 - val_loss: 0.1337\n",
            "Epoch 67/100\n",
            "47/47 - 1s - 30ms/step - accuracy: 0.8052 - loss: 0.1349 - val_accuracy: 0.8040 - val_loss: 0.1342\n",
            "Epoch 68/100\n",
            "47/47 - 1s - 30ms/step - accuracy: 0.8052 - loss: 0.1343 - val_accuracy: 0.8076 - val_loss: 0.1336\n",
            "Epoch 69/100\n",
            "47/47 - 3s - 53ms/step - accuracy: 0.8053 - loss: 0.1337 - val_accuracy: 0.8090 - val_loss: 0.1362\n",
            "Epoch 70/100\n",
            "47/47 - 1s - 31ms/step - accuracy: 0.8055 - loss: 0.1338 - val_accuracy: 0.8034 - val_loss: 0.1343\n",
            "Epoch 71/100\n",
            "47/47 - 3s - 53ms/step - accuracy: 0.8054 - loss: 0.1333 - val_accuracy: 0.8086 - val_loss: 0.1343\n",
            "Epoch 72/100\n",
            "47/47 - 3s - 54ms/step - accuracy: 0.8057 - loss: 0.1328 - val_accuracy: 0.8028 - val_loss: 0.1352\n",
            "Epoch 73/100\n",
            "47/47 - 1s - 30ms/step - accuracy: 0.8055 - loss: 0.1326 - val_accuracy: 0.8089 - val_loss: 0.1361\n",
            "Epoch 74/100\n",
            "47/47 - 3s - 55ms/step - accuracy: 0.8058 - loss: 0.1325 - val_accuracy: 0.8032 - val_loss: 0.1343\n",
            "Epoch 75/100\n",
            "47/47 - 3s - 54ms/step - accuracy: 0.8057 - loss: 0.1321 - val_accuracy: 0.8028 - val_loss: 0.1346\n",
            "Epoch 76/100\n",
            "47/47 - 1s - 32ms/step - accuracy: 0.8057 - loss: 0.1323 - val_accuracy: 0.8089 - val_loss: 0.1311\n",
            "Epoch 77/100\n",
            "47/47 - 2s - 52ms/step - accuracy: 0.8060 - loss: 0.1313 - val_accuracy: 0.8022 - val_loss: 0.1347\n",
            "Epoch 78/100\n",
            "47/47 - 3s - 54ms/step - accuracy: 0.8057 - loss: 0.1317 - val_accuracy: 0.8086 - val_loss: 0.1301\n",
            "Epoch 79/100\n",
            "47/47 - 3s - 54ms/step - accuracy: 0.8060 - loss: 0.1317 - val_accuracy: 0.8056 - val_loss: 0.1295\n",
            "Epoch 80/100\n",
            "47/47 - 3s - 54ms/step - accuracy: 0.8060 - loss: 0.1306 - val_accuracy: 0.8043 - val_loss: 0.1317\n",
            "Epoch 81/100\n",
            "47/47 - 3s - 54ms/step - accuracy: 0.8059 - loss: 0.1313 - val_accuracy: 0.8091 - val_loss: 0.1301\n",
            "Epoch 82/100\n",
            "47/47 - 3s - 54ms/step - accuracy: 0.8062 - loss: 0.1297 - val_accuracy: 0.8087 - val_loss: 0.1309\n",
            "Epoch 83/100\n",
            "47/47 - 3s - 54ms/step - accuracy: 0.8060 - loss: 0.1316 - val_accuracy: 0.8038 - val_loss: 0.1316\n",
            "Epoch 84/100\n",
            "47/47 - 3s - 54ms/step - accuracy: 0.8063 - loss: 0.1290 - val_accuracy: 0.8074 - val_loss: 0.1281\n",
            "Epoch 85/100\n",
            "47/47 - 3s - 55ms/step - accuracy: 0.8061 - loss: 0.1309 - val_accuracy: 0.8096 - val_loss: 0.1301\n",
            "Epoch 86/100\n",
            "47/47 - 1s - 32ms/step - accuracy: 0.8064 - loss: 0.1294 - val_accuracy: 0.8048 - val_loss: 0.1312\n",
            "Epoch 87/100\n",
            "47/47 - 3s - 53ms/step - accuracy: 0.8064 - loss: 0.1293 - val_accuracy: 0.8097 - val_loss: 0.1308\n",
            "Epoch 88/100\n",
            "47/47 - 1s - 30ms/step - accuracy: 0.8064 - loss: 0.1293 - val_accuracy: 0.8048 - val_loss: 0.1313\n",
            "Epoch 89/100\n",
            "47/47 - 3s - 54ms/step - accuracy: 0.8063 - loss: 0.1300 - val_accuracy: 0.8081 - val_loss: 0.1277\n",
            "Epoch 90/100\n",
            "47/47 - 3s - 54ms/step - accuracy: 0.8065 - loss: 0.1287 - val_accuracy: 0.8039 - val_loss: 0.1304\n",
            "Epoch 91/100\n",
            "47/47 - 3s - 55ms/step - accuracy: 0.8065 - loss: 0.1283 - val_accuracy: 0.8085 - val_loss: 0.1267\n",
            "Epoch 92/100\n",
            "47/47 - 2s - 53ms/step - accuracy: 0.8066 - loss: 0.1288 - val_accuracy: 0.8057 - val_loss: 0.1277\n",
            "Epoch 93/100\n",
            "47/47 - 3s - 54ms/step - accuracy: 0.8065 - loss: 0.1288 - val_accuracy: 0.8092 - val_loss: 0.1276\n",
            "Epoch 94/100\n",
            "47/47 - 1s - 31ms/step - accuracy: 0.8066 - loss: 0.1286 - val_accuracy: 0.8058 - val_loss: 0.1271\n",
            "Epoch 95/100\n",
            "47/47 - 3s - 53ms/step - accuracy: 0.8067 - loss: 0.1276 - val_accuracy: 0.8101 - val_loss: 0.1304\n",
            "Epoch 96/100\n",
            "47/47 - 1s - 31ms/step - accuracy: 0.8067 - loss: 0.1280 - val_accuracy: 0.8050 - val_loss: 0.1290\n",
            "Epoch 97/100\n",
            "47/47 - 2s - 53ms/step - accuracy: 0.8067 - loss: 0.1278 - val_accuracy: 0.8095 - val_loss: 0.1274\n",
            "Epoch 98/100\n",
            "47/47 - 3s - 53ms/step - accuracy: 0.8068 - loss: 0.1275 - val_accuracy: 0.8034 - val_loss: 0.1314\n",
            "Epoch 99/100\n",
            "47/47 - 1s - 30ms/step - accuracy: 0.8068 - loss: 0.1267 - val_accuracy: 0.8102 - val_loss: 0.1277\n",
            "Epoch 100/100\n",
            "47/47 - 1s - 30ms/step - accuracy: 0.8070 - loss: 0.1271 - val_accuracy: 0.8050 - val_loss: 0.1273\n"
          ]
        },
        {
          "output_type": "execute_result",
          "data": {
            "text/plain": [
              "<keras.src.callbacks.history.History at 0x7d40e068d090>"
            ]
          },
          "metadata": {},
          "execution_count": 145
        }
      ]
    },
    {
      "cell_type": "markdown",
      "source": [
        "# lets use model and test it"
      ],
      "metadata": {
        "id": "51_-U5XCFIQS"
      }
    },
    {
      "cell_type": "code",
      "source": [
        "decoded_images = Ae_Conv.predict(x_test)\n",
        "n =10\n",
        "k =12\n",
        "plt.figure(figsize=(20,4))\n",
        "for i in range(n):\n",
        "  # here disply orignal images\n",
        "  ax = plt.subplot(2,n,i+1)\n",
        "  plt.imshow(x_test[i*k].reshape(28,28))\n",
        "  plt.gray()\n",
        "  ax.get_xaxis().set_visible(False)\n",
        "  ax.get_yaxis().set_visible(False)\n",
        "\n",
        "  # here disply generated images\n",
        "  ax = plt.subplot(2,n,i+1+n)\n",
        "  plt.imshow(decoded_images[i*k].reshape(28,28))\n",
        "  plt.gray()\n",
        "  ax.get_xaxis().set_visible(False)\n",
        "  ax.get_yaxis().set_visible(False)\n",
        "plt.show()\n",
        "plt.close()"
      ],
      "metadata": {
        "colab": {
          "base_uri": "https://localhost:8080/",
          "height": 238
        },
        "id": "pD75wQFDF-YE",
        "outputId": "e95c03cc-9ce4-407b-892c-aa4960bb07ee"
      },
      "execution_count": 146,
      "outputs": [
        {
          "output_type": "stream",
          "name": "stdout",
          "text": [
            "\u001b[1m313/313\u001b[0m \u001b[32m━━━━━━━━━━━━━━━━━━━━\u001b[0m\u001b[37m\u001b[0m \u001b[1m1s\u001b[0m 3ms/step\n"
          ]
        },
        {
          "output_type": "display_data",
          "data": {
            "text/plain": [
              "<Figure size 2000x400 with 20 Axes>"
            ],
            "image/png": "[encoded data removed]"
          },
          "metadata": {}
        }
      ]
    },
    {
      "cell_type": "markdown",
      "source": [
        "# here i give picture from my directry to test the model"
      ],
      "metadata": {
        "id": "QwSCdiyGJ03u"
      }
    },
    {
      "cell_type": "code",
      "source": [
        "# get this image from for directory and predict it\n",
        "img = tf.keras.utils.load_img('/content/DRUSEN-11129-3.jpeg', color_mode='grayscale') # Load as grayscale\n",
        "img = img.resize((28, 28)) # Resize the image\n",
        "img_array = tf.keras.utils.img_to_array(img)\n",
        "img_array = img_array / 255.0 # Normalize pixel values\n",
        "img_array = img_array.reshape(1, 28, 28, 1) # Reshape with batch size and channel\n",
        "print(img_array.shape)\n",
        "decoded_images = Ae_Conv.predict(img_array)\n",
        "\n",
        "\n",
        "plt.imshow(img_array[0].reshape(28,28))\n",
        "plt.gray()\n",
        "plt.show()\n",
        "plt.close()\n",
        "\n",
        "plt.imshow(decoded_images[0].reshape(28,28))\n",
        "plt.gray()\n",
        "plt.show()\n",
        "plt.close()"
      ],
      "metadata": {
        "colab": {
          "base_uri": "https://localhost:8080/",
          "height": 879
        },
        "id": "PyVYnLKLG1oR",
        "outputId": "239ed2ce-5d0c-4ce9-f59e-5d8a6b606d5e"
      },
      "execution_count": 147,
      "outputs": [
        {
          "output_type": "stream",
          "name": "stdout",
          "text": [
            "(1, 28, 28, 1)\n",
            "\u001b[1m1/1\u001b[0m \u001b[32m━━━━━━━━━━━━━━━━━━━━\u001b[0m\u001b[37m\u001b[0m \u001b[1m0s\u001b[0m 296ms/step\n"
          ]
        },
        {
          "output_type": "display_data",
          "data": {
            "text/plain": [
              "<Figure size 640x480 with 1 Axes>"
            ],
            "image/png": "[encoded data removed]"
          },
          "metadata": {}
        },
        {
          "output_type": "display_data",
          "data": {
            "text/plain": [
              "<Figure size 640x480 with 1 Axes>"
            ],
            "image/png": "[encoded data removed]"
          },
          "metadata": {}
        }
      ]
    },
    {
      "cell_type": "markdown",
      "source": [
        "# WE CAN CALL OR ACCES ENCODER AND DECODER SEPRATELY AS"
      ],
      "metadata": {
        "id": "YVJP7s4ZJ-d3"
      }
    },
    {
      "cell_type": "markdown",
      "source": [
        "> here we acces encoder"
      ],
      "metadata": {
        "id": "K8Jvg5GVKHJx"
      }
    },
    {
      "cell_type": "code",
      "source": [
        "ae_conv_encoder = Model(inputs = input_layer_en, outputs = Ae_Conv.get_layer('bot').output, name = 'conv_Ae_Encoder')\n",
        "ae_conv_encoder.summary()"
      ],
      "metadata": {
        "colab": {
          "base_uri": "https://localhost:8080/",
          "height": 392
        },
        "id": "UrpMiit6KGP5",
        "outputId": "f849be3a-f5aa-452e-e165-0efed0844986"
      },
      "execution_count": 148,
      "outputs": [
        {
          "output_type": "display_data",
          "data": {
            "text/plain": [
              "\u001b[1mModel: \"conv_Ae_Encoder\"\u001b[0m\n"
            ],
            "text/html": [
              "<pre style=\"white-space:pre;overflow-x:auto;line-height:normal;font-family:Menlo,'DejaVu Sans Mono',consolas,'Courier New',monospace\"><span style=\"font-weight: bold\">Model: \"conv_Ae_Encoder\"</span>\n",
              "</pre>\n"
            ]
          },
          "metadata": {}
        },
        {
          "output_type": "display_data",
          "data": {
            "text/plain": [
              "┏━━━━━━━━━━━━━━━━━━━━━━━━━━━━━━━━━┳━━━━━━━━━━━━━━━━━━━━━━━━┳━━━━━━━━━━━━━━━┓\n",
              "┃\u001b[1m \u001b[0m\u001b[1mLayer (type)                   \u001b[0m\u001b[1m \u001b[0m┃\u001b[1m \u001b[0m\u001b[1mOutput Shape          \u001b[0m\u001b[1m \u001b[0m┃\u001b[1m \u001b[0m\u001b[1m      Param #\u001b[0m\u001b[1m \u001b[0m┃\n",
              "┡━━━━━━━━━━━━━━━━━━━━━━━━━━━━━━━━━╇━━━━━━━━━━━━━━━━━━━━━━━━╇━━━━━━━━━━━━━━━┩\n",
              "│ input_layer_12 (\u001b[38;5;33mInputLayer\u001b[0m)     │ (\u001b[38;5;45mNone\u001b[0m, \u001b[38;5;34m28\u001b[0m, \u001b[38;5;34m28\u001b[0m, \u001b[38;5;34m1\u001b[0m)      │             \u001b[38;5;34m0\u001b[0m │\n",
              "├─────────────────────────────────┼────────────────────────┼───────────────┤\n",
              "│ conv2d_29 (\u001b[38;5;33mConv2D\u001b[0m)              │ (\u001b[38;5;45mNone\u001b[0m, \u001b[38;5;34m28\u001b[0m, \u001b[38;5;34m28\u001b[0m, \u001b[38;5;34m32\u001b[0m)     │           \u001b[38;5;34m320\u001b[0m │\n",
              "├─────────────────────────────────┼────────────────────────┼───────────────┤\n",
              "│ max_pooling2d_27 (\u001b[38;5;33mMaxPooling2D\u001b[0m) │ (\u001b[38;5;45mNone\u001b[0m, \u001b[38;5;34m14\u001b[0m, \u001b[38;5;34m14\u001b[0m, \u001b[38;5;34m32\u001b[0m)     │             \u001b[38;5;34m0\u001b[0m │\n",
              "├─────────────────────────────────┼────────────────────────┼───────────────┤\n",
              "│ conv2d_30 (\u001b[38;5;33mConv2D\u001b[0m)              │ (\u001b[38;5;45mNone\u001b[0m, \u001b[38;5;34m14\u001b[0m, \u001b[38;5;34m14\u001b[0m, \u001b[38;5;34m32\u001b[0m)     │         \u001b[38;5;34m9,248\u001b[0m │\n",
              "├─────────────────────────────────┼────────────────────────┼───────────────┤\n",
              "│ max_pooling2d_28 (\u001b[38;5;33mMaxPooling2D\u001b[0m) │ (\u001b[38;5;45mNone\u001b[0m, \u001b[38;5;34m7\u001b[0m, \u001b[38;5;34m7\u001b[0m, \u001b[38;5;34m32\u001b[0m)       │             \u001b[38;5;34m0\u001b[0m │\n",
              "├─────────────────────────────────┼────────────────────────┼───────────────┤\n",
              "│ conv2d_31 (\u001b[38;5;33mConv2D\u001b[0m)              │ (\u001b[38;5;45mNone\u001b[0m, \u001b[38;5;34m7\u001b[0m, \u001b[38;5;34m7\u001b[0m, \u001b[38;5;34m4\u001b[0m)        │         \u001b[38;5;34m1,156\u001b[0m │\n",
              "├─────────────────────────────────┼────────────────────────┼───────────────┤\n",
              "│ max_pooling2d_29 (\u001b[38;5;33mMaxPooling2D\u001b[0m) │ (\u001b[38;5;45mNone\u001b[0m, \u001b[38;5;34m4\u001b[0m, \u001b[38;5;34m4\u001b[0m, \u001b[38;5;34m4\u001b[0m)        │             \u001b[38;5;34m0\u001b[0m │\n",
              "├─────────────────────────────────┼────────────────────────┼───────────────┤\n",
              "│ bot (\u001b[38;5;33mFlatten\u001b[0m)                   │ (\u001b[38;5;45mNone\u001b[0m, \u001b[38;5;34m64\u001b[0m)             │             \u001b[38;5;34m0\u001b[0m │\n",
              "└─────────────────────────────────┴────────────────────────┴───────────────┘\n"
            ],
            "text/html": [
              "<pre style=\"white-space:pre;overflow-x:auto;line-height:normal;font-family:Menlo,'DejaVu Sans Mono',consolas,'Courier New',monospace\">┏━━━━━━━━━━━━━━━━━━━━━━━━━━━━━━━━━┳━━━━━━━━━━━━━━━━━━━━━━━━┳━━━━━━━━━━━━━━━┓\n",
              "┃<span style=\"font-weight: bold\"> Layer (type)                    </span>┃<span style=\"font-weight: bold\"> Output Shape           </span>┃<span style=\"font-weight: bold\">       Param # </span>┃\n",
              "┡━━━━━━━━━━━━━━━━━━━━━━━━━━━━━━━━━╇━━━━━━━━━━━━━━━━━━━━━━━━╇━━━━━━━━━━━━━━━┩\n",
              "│ input_layer_12 (<span style=\"color: #0087ff; text-decoration-color: #0087ff\">InputLayer</span>)     │ (<span style=\"color: #00d7ff; text-decoration-color: #00d7ff\">None</span>, <span style=\"color: #00af00; text-decoration-color: #00af00\">28</span>, <span style=\"color: #00af00; text-decoration-color: #00af00\">28</span>, <span style=\"color: #00af00; text-decoration-color: #00af00\">1</span>)      │             <span style=\"color: #00af00; text-decoration-color: #00af00\">0</span> │\n",
              "├─────────────────────────────────┼────────────────────────┼───────────────┤\n",
              "│ conv2d_29 (<span style=\"color: #0087ff; text-decoration-color: #0087ff\">Conv2D</span>)              │ (<span style=\"color: #00d7ff; text-decoration-color: #00d7ff\">None</span>, <span style=\"color: #00af00; text-decoration-color: #00af00\">28</span>, <span style=\"color: #00af00; text-decoration-color: #00af00\">28</span>, <span style=\"color: #00af00; text-decoration-color: #00af00\">32</span>)     │           <span style=\"color: #00af00; text-decoration-color: #00af00\">320</span> │\n",
              "├─────────────────────────────────┼────────────────────────┼───────────────┤\n",
              "│ max_pooling2d_27 (<span style=\"color: #0087ff; text-decoration-color: #0087ff\">MaxPooling2D</span>) │ (<span style=\"color: #00d7ff; text-decoration-color: #00d7ff\">None</span>, <span style=\"color: #00af00; text-decoration-color: #00af00\">14</span>, <span style=\"color: #00af00; text-decoration-color: #00af00\">14</span>, <span style=\"color: #00af00; text-decoration-color: #00af00\">32</span>)     │             <span style=\"color: #00af00; text-decoration-color: #00af00\">0</span> │\n",
              "├─────────────────────────────────┼────────────────────────┼───────────────┤\n",
              "│ conv2d_30 (<span style=\"color: #0087ff; text-decoration-color: #0087ff\">Conv2D</span>)              │ (<span style=\"color: #00d7ff; text-decoration-color: #00d7ff\">None</span>, <span style=\"color: #00af00; text-decoration-color: #00af00\">14</span>, <span style=\"color: #00af00; text-decoration-color: #00af00\">14</span>, <span style=\"color: #00af00; text-decoration-color: #00af00\">32</span>)     │         <span style=\"color: #00af00; text-decoration-color: #00af00\">9,248</span> │\n",
              "├─────────────────────────────────┼────────────────────────┼───────────────┤\n",
              "│ max_pooling2d_28 (<span style=\"color: #0087ff; text-decoration-color: #0087ff\">MaxPooling2D</span>) │ (<span style=\"color: #00d7ff; text-decoration-color: #00d7ff\">None</span>, <span style=\"color: #00af00; text-decoration-color: #00af00\">7</span>, <span style=\"color: #00af00; text-decoration-color: #00af00\">7</span>, <span style=\"color: #00af00; text-decoration-color: #00af00\">32</span>)       │             <span style=\"color: #00af00; text-decoration-color: #00af00\">0</span> │\n",
              "├─────────────────────────────────┼────────────────────────┼───────────────┤\n",
              "│ conv2d_31 (<span style=\"color: #0087ff; text-decoration-color: #0087ff\">Conv2D</span>)              │ (<span style=\"color: #00d7ff; text-decoration-color: #00d7ff\">None</span>, <span style=\"color: #00af00; text-decoration-color: #00af00\">7</span>, <span style=\"color: #00af00; text-decoration-color: #00af00\">7</span>, <span style=\"color: #00af00; text-decoration-color: #00af00\">4</span>)        │         <span style=\"color: #00af00; text-decoration-color: #00af00\">1,156</span> │\n",
              "├─────────────────────────────────┼────────────────────────┼───────────────┤\n",
              "│ max_pooling2d_29 (<span style=\"color: #0087ff; text-decoration-color: #0087ff\">MaxPooling2D</span>) │ (<span style=\"color: #00d7ff; text-decoration-color: #00d7ff\">None</span>, <span style=\"color: #00af00; text-decoration-color: #00af00\">4</span>, <span style=\"color: #00af00; text-decoration-color: #00af00\">4</span>, <span style=\"color: #00af00; text-decoration-color: #00af00\">4</span>)        │             <span style=\"color: #00af00; text-decoration-color: #00af00\">0</span> │\n",
              "├─────────────────────────────────┼────────────────────────┼───────────────┤\n",
              "│ bot (<span style=\"color: #0087ff; text-decoration-color: #0087ff\">Flatten</span>)                   │ (<span style=\"color: #00d7ff; text-decoration-color: #00d7ff\">None</span>, <span style=\"color: #00af00; text-decoration-color: #00af00\">64</span>)             │             <span style=\"color: #00af00; text-decoration-color: #00af00\">0</span> │\n",
              "└─────────────────────────────────┴────────────────────────┴───────────────┘\n",
              "</pre>\n"
            ]
          },
          "metadata": {}
        },
        {
          "output_type": "display_data",
          "data": {
            "text/plain": [
              "\u001b[1m Total params: \u001b[0m\u001b[38;5;34m10,724\u001b[0m (41.89 KB)\n"
            ],
            "text/html": [
              "<pre style=\"white-space:pre;overflow-x:auto;line-height:normal;font-family:Menlo,'DejaVu Sans Mono',consolas,'Courier New',monospace\"><span style=\"font-weight: bold\"> Total params: </span><span style=\"color: #00af00; text-decoration-color: #00af00\">10,724</span> (41.89 KB)\n",
              "</pre>\n"
            ]
          },
          "metadata": {}
        },
        {
          "output_type": "display_data",
          "data": {
            "text/plain": [
              "\u001b[1m Trainable params: \u001b[0m\u001b[38;5;34m10,724\u001b[0m (41.89 KB)\n"
            ],
            "text/html": [
              "<pre style=\"white-space:pre;overflow-x:auto;line-height:normal;font-family:Menlo,'DejaVu Sans Mono',consolas,'Courier New',monospace\"><span style=\"font-weight: bold\"> Trainable params: </span><span style=\"color: #00af00; text-decoration-color: #00af00\">10,724</span> (41.89 KB)\n",
              "</pre>\n"
            ]
          },
          "metadata": {}
        },
        {
          "output_type": "display_data",
          "data": {
            "text/plain": [
              "\u001b[1m Non-trainable params: \u001b[0m\u001b[38;5;34m0\u001b[0m (0.00 B)\n"
            ],
            "text/html": [
              "<pre style=\"white-space:pre;overflow-x:auto;line-height:normal;font-family:Menlo,'DejaVu Sans Mono',consolas,'Courier New',monospace\"><span style=\"font-weight: bold\"> Non-trainable params: </span><span style=\"color: #00af00; text-decoration-color: #00af00\">0</span> (0.00 B)\n",
              "</pre>\n"
            ]
          },
          "metadata": {}
        }
      ]
    },
    {
      "cell_type": "markdown",
      "source": [
        "passing images to encoder"
      ],
      "metadata": {
        "id": "h3mQF_3VNrXD"
      }
    },
    {
      "cell_type": "code",
      "source": [
        "pred_encoder = ae_conv_encoder.predict(x_test)\n",
        "print(pred_encoder.shape)"
      ],
      "metadata": {
        "colab": {
          "base_uri": "https://localhost:8080/"
        },
        "id": "DX9DWahrNq7g",
        "outputId": "7a0c0818-f856-40ed-dd14-b49f426d210d"
      },
      "execution_count": 149,
      "outputs": [
        {
          "output_type": "stream",
          "name": "stdout",
          "text": [
            "\u001b[1m313/313\u001b[0m \u001b[32m━━━━━━━━━━━━━━━━━━━━\u001b[0m\u001b[37m\u001b[0m \u001b[1m1s\u001b[0m 3ms/step\n",
            "(10000, 64)\n"
          ]
        }
      ]
    },
    {
      "cell_type": "markdown",
      "source": [
        "> here access decoder  as"
      ],
      "metadata": {
        "id": "vVpX9oq0MarB"
      }
    },
    {
      "cell_type": "code",
      "source": [
        "decode_inp_cnv = Input(shape=(64,))\n",
        "temp_dec = Ae_Conv.get_layer('botnext0')(decode_inp_cnv)\n",
        "for i in range(1,8):\n",
        "  s = 'botnext{}'.format(i)\n",
        "  temp_dec = Ae_Conv.get_layer(s)(temp_dec)\n",
        "ae_conv_decoder = Model(inputs = decode_inp_cnv, outputs = temp_dec, name = 'conv_Ae_Decoder')\n",
        "ae_conv_decoder.summary()"
      ],
      "metadata": {
        "colab": {
          "base_uri": "https://localhost:8080/",
          "height": 424
        },
        "id": "HPu3YdaCMen0",
        "outputId": "d3af31f8-e17e-494b-8b58-be92023cce7d"
      },
      "execution_count": 150,
      "outputs": [
        {
          "output_type": "display_data",
          "data": {
            "text/plain": [
              "\u001b[1mModel: \"conv_Ae_Decoder\"\u001b[0m\n"
            ],
            "text/html": [
              "<pre style=\"white-space:pre;overflow-x:auto;line-height:normal;font-family:Menlo,'DejaVu Sans Mono',consolas,'Courier New',monospace\"><span style=\"font-weight: bold\">Model: \"conv_Ae_Decoder\"</span>\n",
              "</pre>\n"
            ]
          },
          "metadata": {}
        },
        {
          "output_type": "display_data",
          "data": {
            "text/plain": [
              "┏━━━━━━━━━━━━━━━━━━━━━━━━━━━━━━━━━┳━━━━━━━━━━━━━━━━━━━━━━━━┳━━━━━━━━━━━━━━━┓\n",
              "┃\u001b[1m \u001b[0m\u001b[1mLayer (type)                   \u001b[0m\u001b[1m \u001b[0m┃\u001b[1m \u001b[0m\u001b[1mOutput Shape          \u001b[0m\u001b[1m \u001b[0m┃\u001b[1m \u001b[0m\u001b[1m      Param #\u001b[0m\u001b[1m \u001b[0m┃\n",
              "┡━━━━━━━━━━━━━━━━━━━━━━━━━━━━━━━━━╇━━━━━━━━━━━━━━━━━━━━━━━━╇━━━━━━━━━━━━━━━┩\n",
              "│ input_layer_13 (\u001b[38;5;33mInputLayer\u001b[0m)     │ (\u001b[38;5;45mNone\u001b[0m, \u001b[38;5;34m64\u001b[0m)             │             \u001b[38;5;34m0\u001b[0m │\n",
              "├─────────────────────────────────┼────────────────────────┼───────────────┤\n",
              "│ botnext0 (\u001b[38;5;33mReshape\u001b[0m)              │ (\u001b[38;5;45mNone\u001b[0m, \u001b[38;5;34m4\u001b[0m, \u001b[38;5;34m4\u001b[0m, \u001b[38;5;34m4\u001b[0m)        │             \u001b[38;5;34m0\u001b[0m │\n",
              "├─────────────────────────────────┼────────────────────────┼───────────────┤\n",
              "│ botnext1 (\u001b[38;5;33mConv2D\u001b[0m)               │ (\u001b[38;5;45mNone\u001b[0m, \u001b[38;5;34m4\u001b[0m, \u001b[38;5;34m4\u001b[0m, \u001b[38;5;34m4\u001b[0m)        │           \u001b[38;5;34m148\u001b[0m │\n",
              "├─────────────────────────────────┼────────────────────────┼───────────────┤\n",
              "│ botnext2 (\u001b[38;5;33mUpSampling2D\u001b[0m)         │ (\u001b[38;5;45mNone\u001b[0m, \u001b[38;5;34m8\u001b[0m, \u001b[38;5;34m8\u001b[0m, \u001b[38;5;34m4\u001b[0m)        │             \u001b[38;5;34m0\u001b[0m │\n",
              "├─────────────────────────────────┼────────────────────────┼───────────────┤\n",
              "│ botnext3 (\u001b[38;5;33mConv2D\u001b[0m)               │ (\u001b[38;5;45mNone\u001b[0m, \u001b[38;5;34m8\u001b[0m, \u001b[38;5;34m8\u001b[0m, \u001b[38;5;34m32\u001b[0m)       │         \u001b[38;5;34m1,184\u001b[0m │\n",
              "├─────────────────────────────────┼────────────────────────┼───────────────┤\n",
              "│ botnext4 (\u001b[38;5;33mUpSampling2D\u001b[0m)         │ (\u001b[38;5;45mNone\u001b[0m, \u001b[38;5;34m16\u001b[0m, \u001b[38;5;34m16\u001b[0m, \u001b[38;5;34m32\u001b[0m)     │             \u001b[38;5;34m0\u001b[0m │\n",
              "├─────────────────────────────────┼────────────────────────┼───────────────┤\n",
              "│ botnext5 (\u001b[38;5;33mConv2D\u001b[0m)               │ (\u001b[38;5;45mNone\u001b[0m, \u001b[38;5;34m14\u001b[0m, \u001b[38;5;34m14\u001b[0m, \u001b[38;5;34m32\u001b[0m)     │         \u001b[38;5;34m9,248\u001b[0m │\n",
              "├─────────────────────────────────┼────────────────────────┼───────────────┤\n",
              "│ botnext6 (\u001b[38;5;33mUpSampling2D\u001b[0m)         │ (\u001b[38;5;45mNone\u001b[0m, \u001b[38;5;34m28\u001b[0m, \u001b[38;5;34m28\u001b[0m, \u001b[38;5;34m32\u001b[0m)     │             \u001b[38;5;34m0\u001b[0m │\n",
              "├─────────────────────────────────┼────────────────────────┼───────────────┤\n",
              "│ botnext7 (\u001b[38;5;33mConv2D\u001b[0m)               │ (\u001b[38;5;45mNone\u001b[0m, \u001b[38;5;34m28\u001b[0m, \u001b[38;5;34m28\u001b[0m, \u001b[38;5;34m1\u001b[0m)      │           \u001b[38;5;34m289\u001b[0m │\n",
              "└─────────────────────────────────┴────────────────────────┴───────────────┘\n"
            ],
            "text/html": [
              "<pre style=\"white-space:pre;overflow-x:auto;line-height:normal;font-family:Menlo,'DejaVu Sans Mono',consolas,'Courier New',monospace\">┏━━━━━━━━━━━━━━━━━━━━━━━━━━━━━━━━━┳━━━━━━━━━━━━━━━━━━━━━━━━┳━━━━━━━━━━━━━━━┓\n",
              "┃<span style=\"font-weight: bold\"> Layer (type)                    </span>┃<span style=\"font-weight: bold\"> Output Shape           </span>┃<span style=\"font-weight: bold\">       Param # </span>┃\n",
              "┡━━━━━━━━━━━━━━━━━━━━━━━━━━━━━━━━━╇━━━━━━━━━━━━━━━━━━━━━━━━╇━━━━━━━━━━━━━━━┩\n",
              "│ input_layer_13 (<span style=\"color: #0087ff; text-decoration-color: #0087ff\">InputLayer</span>)     │ (<span style=\"color: #00d7ff; text-decoration-color: #00d7ff\">None</span>, <span style=\"color: #00af00; text-decoration-color: #00af00\">64</span>)             │             <span style=\"color: #00af00; text-decoration-color: #00af00\">0</span> │\n",
              "├─────────────────────────────────┼────────────────────────┼───────────────┤\n",
              "│ botnext0 (<span style=\"color: #0087ff; text-decoration-color: #0087ff\">Reshape</span>)              │ (<span style=\"color: #00d7ff; text-decoration-color: #00d7ff\">None</span>, <span style=\"color: #00af00; text-decoration-color: #00af00\">4</span>, <span style=\"color: #00af00; text-decoration-color: #00af00\">4</span>, <span style=\"color: #00af00; text-decoration-color: #00af00\">4</span>)        │             <span style=\"color: #00af00; text-decoration-color: #00af00\">0</span> │\n",
              "├─────────────────────────────────┼────────────────────────┼───────────────┤\n",
              "│ botnext1 (<span style=\"color: #0087ff; text-decoration-color: #0087ff\">Conv2D</span>)               │ (<span style=\"color: #00d7ff; text-decoration-color: #00d7ff\">None</span>, <span style=\"color: #00af00; text-decoration-color: #00af00\">4</span>, <span style=\"color: #00af00; text-decoration-color: #00af00\">4</span>, <span style=\"color: #00af00; text-decoration-color: #00af00\">4</span>)        │           <span style=\"color: #00af00; text-decoration-color: #00af00\">148</span> │\n",
              "├─────────────────────────────────┼────────────────────────┼───────────────┤\n",
              "│ botnext2 (<span style=\"color: #0087ff; text-decoration-color: #0087ff\">UpSampling2D</span>)         │ (<span style=\"color: #00d7ff; text-decoration-color: #00d7ff\">None</span>, <span style=\"color: #00af00; text-decoration-color: #00af00\">8</span>, <span style=\"color: #00af00; text-decoration-color: #00af00\">8</span>, <span style=\"color: #00af00; text-decoration-color: #00af00\">4</span>)        │             <span style=\"color: #00af00; text-decoration-color: #00af00\">0</span> │\n",
              "├─────────────────────────────────┼────────────────────────┼───────────────┤\n",
              "│ botnext3 (<span style=\"color: #0087ff; text-decoration-color: #0087ff\">Conv2D</span>)               │ (<span style=\"color: #00d7ff; text-decoration-color: #00d7ff\">None</span>, <span style=\"color: #00af00; text-decoration-color: #00af00\">8</span>, <span style=\"color: #00af00; text-decoration-color: #00af00\">8</span>, <span style=\"color: #00af00; text-decoration-color: #00af00\">32</span>)       │         <span style=\"color: #00af00; text-decoration-color: #00af00\">1,184</span> │\n",
              "├─────────────────────────────────┼────────────────────────┼───────────────┤\n",
              "│ botnext4 (<span style=\"color: #0087ff; text-decoration-color: #0087ff\">UpSampling2D</span>)         │ (<span style=\"color: #00d7ff; text-decoration-color: #00d7ff\">None</span>, <span style=\"color: #00af00; text-decoration-color: #00af00\">16</span>, <span style=\"color: #00af00; text-decoration-color: #00af00\">16</span>, <span style=\"color: #00af00; text-decoration-color: #00af00\">32</span>)     │             <span style=\"color: #00af00; text-decoration-color: #00af00\">0</span> │\n",
              "├─────────────────────────────────┼────────────────────────┼───────────────┤\n",
              "│ botnext5 (<span style=\"color: #0087ff; text-decoration-color: #0087ff\">Conv2D</span>)               │ (<span style=\"color: #00d7ff; text-decoration-color: #00d7ff\">None</span>, <span style=\"color: #00af00; text-decoration-color: #00af00\">14</span>, <span style=\"color: #00af00; text-decoration-color: #00af00\">14</span>, <span style=\"color: #00af00; text-decoration-color: #00af00\">32</span>)     │         <span style=\"color: #00af00; text-decoration-color: #00af00\">9,248</span> │\n",
              "├─────────────────────────────────┼────────────────────────┼───────────────┤\n",
              "│ botnext6 (<span style=\"color: #0087ff; text-decoration-color: #0087ff\">UpSampling2D</span>)         │ (<span style=\"color: #00d7ff; text-decoration-color: #00d7ff\">None</span>, <span style=\"color: #00af00; text-decoration-color: #00af00\">28</span>, <span style=\"color: #00af00; text-decoration-color: #00af00\">28</span>, <span style=\"color: #00af00; text-decoration-color: #00af00\">32</span>)     │             <span style=\"color: #00af00; text-decoration-color: #00af00\">0</span> │\n",
              "├─────────────────────────────────┼────────────────────────┼───────────────┤\n",
              "│ botnext7 (<span style=\"color: #0087ff; text-decoration-color: #0087ff\">Conv2D</span>)               │ (<span style=\"color: #00d7ff; text-decoration-color: #00d7ff\">None</span>, <span style=\"color: #00af00; text-decoration-color: #00af00\">28</span>, <span style=\"color: #00af00; text-decoration-color: #00af00\">28</span>, <span style=\"color: #00af00; text-decoration-color: #00af00\">1</span>)      │           <span style=\"color: #00af00; text-decoration-color: #00af00\">289</span> │\n",
              "└─────────────────────────────────┴────────────────────────┴───────────────┘\n",
              "</pre>\n"
            ]
          },
          "metadata": {}
        },
        {
          "output_type": "display_data",
          "data": {
            "text/plain": [
              "\u001b[1m Total params: \u001b[0m\u001b[38;5;34m10,869\u001b[0m (42.46 KB)\n"
            ],
            "text/html": [
              "<pre style=\"white-space:pre;overflow-x:auto;line-height:normal;font-family:Menlo,'DejaVu Sans Mono',consolas,'Courier New',monospace\"><span style=\"font-weight: bold\"> Total params: </span><span style=\"color: #00af00; text-decoration-color: #00af00\">10,869</span> (42.46 KB)\n",
              "</pre>\n"
            ]
          },
          "metadata": {}
        },
        {
          "output_type": "display_data",
          "data": {
            "text/plain": [
              "\u001b[1m Trainable params: \u001b[0m\u001b[38;5;34m10,869\u001b[0m (42.46 KB)\n"
            ],
            "text/html": [
              "<pre style=\"white-space:pre;overflow-x:auto;line-height:normal;font-family:Menlo,'DejaVu Sans Mono',consolas,'Courier New',monospace\"><span style=\"font-weight: bold\"> Trainable params: </span><span style=\"color: #00af00; text-decoration-color: #00af00\">10,869</span> (42.46 KB)\n",
              "</pre>\n"
            ]
          },
          "metadata": {}
        },
        {
          "output_type": "display_data",
          "data": {
            "text/plain": [
              "\u001b[1m Non-trainable params: \u001b[0m\u001b[38;5;34m0\u001b[0m (0.00 B)\n"
            ],
            "text/html": [
              "<pre style=\"white-space:pre;overflow-x:auto;line-height:normal;font-family:Menlo,'DejaVu Sans Mono',consolas,'Courier New',monospace\"><span style=\"font-weight: bold\"> Non-trainable params: </span><span style=\"color: #00af00; text-decoration-color: #00af00\">0</span> (0.00 B)\n",
              "</pre>\n"
            ]
          },
          "metadata": {}
        }
      ]
    },
    {
      "cell_type": "markdown",
      "source": [
        "passing images to decoder"
      ],
      "metadata": {
        "id": "1PmTHMIXN01_"
      }
    },
    {
      "cell_type": "code",
      "source": [
        "pred_decoder = ae_conv_decoder.predict(pred_encoder)\n",
        "print(pred_decoder.shape)\n",
        "\n",
        "# here disply generated images by decoder\n",
        "n = 10\n",
        "k = 12\n",
        "plt.figure(figsize=(20,4))\n",
        "for i in range(n):\n",
        "  ax =plt.subplot(2,n,i+1)\n",
        "  ax.imshow(pred_decoder[i*k].reshape(28,28))\n",
        "  plt.gray()\n",
        "  ax.get_xaxis().set_visible(False)\n",
        "  ax.get_yaxis().set_visible(False)\n",
        "plt.show()\n",
        "plt.close()"
      ],
      "metadata": {
        "colab": {
          "base_uri": "https://localhost:8080/",
          "height": 149
        },
        "id": "tp0DZKelN0dK",
        "outputId": "f98685a5-46b3-4dbd-a5f5-a3bcf18ec012"
      },
      "execution_count": 151,
      "outputs": [
        {
          "output_type": "stream",
          "name": "stdout",
          "text": [
            "\u001b[1m313/313\u001b[0m \u001b[32m━━━━━━━━━━━━━━━━━━━━\u001b[0m\u001b[37m\u001b[0m \u001b[1m1s\u001b[0m 3ms/step\n",
            "(10000, 28, 28, 1)\n"
          ]
        },
        {
          "output_type": "display_data",
          "data": {
            "text/plain": [
              "<Figure size 2000x400 with 10 Axes>"
            ],
            "image/png": "[encoded data removed]"
          },
          "metadata": {}
        }
      ]
    },
    {
      "cell_type": "markdown",
      "source": [
        "# DENOISING AUTO ENCODER"
      ],
      "metadata": {
        "id": "nrmZs2skN0Mq"
      }
    },
    {
      "cell_type": "markdown",
      "source": [
        "> we need noisy data to trained denoise autoencoder so here  we add noise in my mnist loaded data x_train and x_test"
      ],
      "metadata": {
        "id": "iEgoHbgCPKEI"
      }
    },
    {
      "cell_type": "code",
      "source": [
        "noise_factor = 0.5\n",
        "x_train_noisy = x_train + noise_factor * np.random.normal(loc=0.0, scale=1.0, size=x_train.shape)\n",
        "x_test_noisy = x_test + noise_factor * np.random.normal(loc=0.0, scale=1.0, size=x_test.shape)\n",
        "x_train_noisy = np.clip(x_train_noisy, 0., 1.)\n",
        "x_test_noisy = np.clip(x_test_noisy, 0., 1.)\n",
        "print(x_train_noisy.shape)\n",
        "print(x_test_noisy.shape)"
      ],
      "metadata": {
        "colab": {
          "base_uri": "https://localhost:8080/"
        },
        "id": "utZ8MJTZQuY_",
        "outputId": "0b4b10f6-e1a2-468c-e128-38863af7be17"
      },
      "execution_count": 152,
      "outputs": [
        {
          "output_type": "stream",
          "name": "stdout",
          "text": [
            "(60000, 28, 28, 1)\n",
            "(10000, 28, 28, 1)\n"
          ]
        }
      ]
    },
    {
      "cell_type": "markdown",
      "source": [
        ">disply noisy data"
      ],
      "metadata": {
        "id": "WsNOGKkxX6WX"
      }
    },
    {
      "cell_type": "code",
      "source": [
        "n = 10\n",
        "plt.figure(figsize=(20,4))\n",
        "for i in range(n):\n",
        "  ax = plt.subplot(2,n,i+1)\n",
        "  ax.imshow(x_train_noisy[i].reshape(28,28))\n",
        "  plt.gray()\n",
        "  ax.get_xaxis().set_visible(False)\n",
        "  ax.get_yaxis().set_visible(False)\n",
        "plt.show()\n",
        "plt.close()"
      ],
      "metadata": {
        "colab": {
          "base_uri": "https://localhost:8080/",
          "height": 113
        },
        "id": "hsOyaHj-YQHN",
        "outputId": "4a58476f-05e7-4d09-ca97-66f23d66a817"
      },
      "execution_count": 153,
      "outputs": [
        {
          "output_type": "display_data",
          "data": {
            "text/plain": [
              "<Figure size 2000x400 with 10 Axes>"
            ],
            "image/png": "[encoded data removed]"
          },
          "metadata": {}
        }
      ]
    },
    {
      "cell_type": "markdown",
      "source": [
        "> ARCHITECTURE OF DENOISING AUTO ENCODER"
      ],
      "metadata": {
        "id": "noUOoMdDYXmn"
      }
    },
    {
      "cell_type": "code",
      "source": [
        "input_layer_en = Input(shape=(28,28,1))\n",
        "ae_cnv_en = Conv2D(32,(3,3), activation='relu', padding = 'same', kernel_initializer='he_normal')(input_layer_en)\n",
        "ae_cnv_en = MaxPooling2D((2,2), padding = 'same')(ae_cnv_en)\n",
        "\n",
        "ae_cnv_en = Conv2D(32, (3,3), activation='relu', padding= 'same')(ae_cnv_en)\n",
        "ae_cnv_en = MaxPooling2D((2,2), padding='same')(ae_cnv_en)\n",
        "\n",
        "ae_cnv_en = Conv2D(4, (3,3), activation= 'relu', padding='same')(ae_cnv_en)\n",
        "ae_cnv_en = MaxPooling2D((2,2), padding='same')(ae_cnv_en)\n",
        "\n",
        "ae_cnv_en = Flatten(name = 'bot')(ae_cnv_en)\n",
        "\n",
        "ae_cnv_de = Reshape((4,4,4), input_shape = (64,), name ='botnext0')(ae_cnv_en)\n",
        "\n",
        "ae_cnv_de = Conv2D(4,(3,3), activation='relu', padding='same', name = 'botnext1')(ae_cnv_de)\n",
        "ae_cnv_de = UpSampling2D((2,2), name = 'botnext2')(ae_cnv_de)\n",
        "\n",
        "ae_cnv_de = Conv2D(32,(3,3), activation='relu', padding='same', name = 'botnext3')(ae_cnv_de)\n",
        "ae_cnv_de = UpSampling2D((2,2), name = 'botnext4')(ae_cnv_de)\n",
        "\n",
        "ae_cnv_de = Conv2D(32,(3,3), activation='relu', padding='valid', name = 'botnext5')(ae_cnv_de)\n",
        "ae_cnv_de = UpSampling2D((2,2), name = 'botnext6')(ae_cnv_de)\n",
        "\n",
        "ae_cnv_de = Conv2D(1,(3,3), activation='sigmoid', padding='same', name = 'botnext7')(ae_cnv_de)\n",
        "\n",
        "Ae_Conv_denoise = Model(inputs = input_layer_en, outputs = ae_cnv_de)\n",
        "Ae_Conv_denoise.compile(optimizer=tf.keras.optimizers.Adadelta(0.1,clipvalue=2),loss='binary_crossentropy', metrics = ['accuracy'])\n",
        "Ae_Conv_denoise.summary()"
      ],
      "metadata": {
        "colab": {
          "base_uri": "https://localhost:8080/",
          "height": 653
        },
        "id": "Iz9-wwJVYcLZ",
        "outputId": "81c0f552-a2cb-41af-98af-da0a9048d3c0"
      },
      "execution_count": 154,
      "outputs": [
        {
          "output_type": "display_data",
          "data": {
            "text/plain": [
              "\u001b[1mModel: \"functional_10\"\u001b[0m\n"
            ],
            "text/html": [
              "<pre style=\"white-space:pre;overflow-x:auto;line-height:normal;font-family:Menlo,'DejaVu Sans Mono',consolas,'Courier New',monospace\"><span style=\"font-weight: bold\">Model: \"functional_10\"</span>\n",
              "</pre>\n"
            ]
          },
          "metadata": {}
        },
        {
          "output_type": "display_data",
          "data": {
            "text/plain": [
              "┏━━━━━━━━━━━━━━━━━━━━━━━━━━━━━━━━━┳━━━━━━━━━━━━━━━━━━━━━━━━┳━━━━━━━━━━━━━━━┓\n",
              "┃\u001b[1m \u001b[0m\u001b[1mLayer (type)                   \u001b[0m\u001b[1m \u001b[0m┃\u001b[1m \u001b[0m\u001b[1mOutput Shape          \u001b[0m\u001b[1m \u001b[0m┃\u001b[1m \u001b[0m\u001b[1m      Param #\u001b[0m\u001b[1m \u001b[0m┃\n",
              "┡━━━━━━━━━━━━━━━━━━━━━━━━━━━━━━━━━╇━━━━━━━━━━━━━━━━━━━━━━━━╇━━━━━━━━━━━━━━━┩\n",
              "│ input_layer_14 (\u001b[38;5;33mInputLayer\u001b[0m)     │ (\u001b[38;5;45mNone\u001b[0m, \u001b[38;5;34m28\u001b[0m, \u001b[38;5;34m28\u001b[0m, \u001b[38;5;34m1\u001b[0m)      │             \u001b[38;5;34m0\u001b[0m │\n",
              "├─────────────────────────────────┼────────────────────────┼───────────────┤\n",
              "│ conv2d_32 (\u001b[38;5;33mConv2D\u001b[0m)              │ (\u001b[38;5;45mNone\u001b[0m, \u001b[38;5;34m28\u001b[0m, \u001b[38;5;34m28\u001b[0m, \u001b[38;5;34m32\u001b[0m)     │           \u001b[38;5;34m320\u001b[0m │\n",
              "├─────────────────────────────────┼────────────────────────┼───────────────┤\n",
              "│ max_pooling2d_30 (\u001b[38;5;33mMaxPooling2D\u001b[0m) │ (\u001b[38;5;45mNone\u001b[0m, \u001b[38;5;34m14\u001b[0m, \u001b[38;5;34m14\u001b[0m, \u001b[38;5;34m32\u001b[0m)     │             \u001b[38;5;34m0\u001b[0m │\n",
              "├─────────────────────────────────┼────────────────────────┼───────────────┤\n",
              "│ conv2d_33 (\u001b[38;5;33mConv2D\u001b[0m)              │ (\u001b[38;5;45mNone\u001b[0m, \u001b[38;5;34m14\u001b[0m, \u001b[38;5;34m14\u001b[0m, \u001b[38;5;34m32\u001b[0m)     │         \u001b[38;5;34m9,248\u001b[0m │\n",
              "├─────────────────────────────────┼────────────────────────┼───────────────┤\n",
              "│ max_pooling2d_31 (\u001b[38;5;33mMaxPooling2D\u001b[0m) │ (\u001b[38;5;45mNone\u001b[0m, \u001b[38;5;34m7\u001b[0m, \u001b[38;5;34m7\u001b[0m, \u001b[38;5;34m32\u001b[0m)       │             \u001b[38;5;34m0\u001b[0m │\n",
              "├─────────────────────────────────┼────────────────────────┼───────────────┤\n",
              "│ conv2d_34 (\u001b[38;5;33mConv2D\u001b[0m)              │ (\u001b[38;5;45mNone\u001b[0m, \u001b[38;5;34m7\u001b[0m, \u001b[38;5;34m7\u001b[0m, \u001b[38;5;34m4\u001b[0m)        │         \u001b[38;5;34m1,156\u001b[0m │\n",
              "├─────────────────────────────────┼────────────────────────┼───────────────┤\n",
              "│ max_pooling2d_32 (\u001b[38;5;33mMaxPooling2D\u001b[0m) │ (\u001b[38;5;45mNone\u001b[0m, \u001b[38;5;34m4\u001b[0m, \u001b[38;5;34m4\u001b[0m, \u001b[38;5;34m4\u001b[0m)        │             \u001b[38;5;34m0\u001b[0m │\n",
              "├─────────────────────────────────┼────────────────────────┼───────────────┤\n",
              "│ bot (\u001b[38;5;33mFlatten\u001b[0m)                   │ (\u001b[38;5;45mNone\u001b[0m, \u001b[38;5;34m64\u001b[0m)             │             \u001b[38;5;34m0\u001b[0m │\n",
              "├─────────────────────────────────┼────────────────────────┼───────────────┤\n",
              "│ botnext0 (\u001b[38;5;33mReshape\u001b[0m)              │ (\u001b[38;5;45mNone\u001b[0m, \u001b[38;5;34m4\u001b[0m, \u001b[38;5;34m4\u001b[0m, \u001b[38;5;34m4\u001b[0m)        │             \u001b[38;5;34m0\u001b[0m │\n",
              "├─────────────────────────────────┼────────────────────────┼───────────────┤\n",
              "│ botnext1 (\u001b[38;5;33mConv2D\u001b[0m)               │ (\u001b[38;5;45mNone\u001b[0m, \u001b[38;5;34m4\u001b[0m, \u001b[38;5;34m4\u001b[0m, \u001b[38;5;34m4\u001b[0m)        │           \u001b[38;5;34m148\u001b[0m │\n",
              "├─────────────────────────────────┼────────────────────────┼───────────────┤\n",
              "│ botnext2 (\u001b[38;5;33mUpSampling2D\u001b[0m)         │ (\u001b[38;5;45mNone\u001b[0m, \u001b[38;5;34m8\u001b[0m, \u001b[38;5;34m8\u001b[0m, \u001b[38;5;34m4\u001b[0m)        │             \u001b[38;5;34m0\u001b[0m │\n",
              "├─────────────────────────────────┼────────────────────────┼───────────────┤\n",
              "│ botnext3 (\u001b[38;5;33mConv2D\u001b[0m)               │ (\u001b[38;5;45mNone\u001b[0m, \u001b[38;5;34m8\u001b[0m, \u001b[38;5;34m8\u001b[0m, \u001b[38;5;34m32\u001b[0m)       │         \u001b[38;5;34m1,184\u001b[0m │\n",
              "├─────────────────────────────────┼────────────────────────┼───────────────┤\n",
              "│ botnext4 (\u001b[38;5;33mUpSampling2D\u001b[0m)         │ (\u001b[38;5;45mNone\u001b[0m, \u001b[38;5;34m16\u001b[0m, \u001b[38;5;34m16\u001b[0m, \u001b[38;5;34m32\u001b[0m)     │             \u001b[38;5;34m0\u001b[0m │\n",
              "├─────────────────────────────────┼────────────────────────┼───────────────┤\n",
              "│ botnext5 (\u001b[38;5;33mConv2D\u001b[0m)               │ (\u001b[38;5;45mNone\u001b[0m, \u001b[38;5;34m14\u001b[0m, \u001b[38;5;34m14\u001b[0m, \u001b[38;5;34m32\u001b[0m)     │         \u001b[38;5;34m9,248\u001b[0m │\n",
              "├─────────────────────────────────┼────────────────────────┼───────────────┤\n",
              "│ botnext6 (\u001b[38;5;33mUpSampling2D\u001b[0m)         │ (\u001b[38;5;45mNone\u001b[0m, \u001b[38;5;34m28\u001b[0m, \u001b[38;5;34m28\u001b[0m, \u001b[38;5;34m32\u001b[0m)     │             \u001b[38;5;34m0\u001b[0m │\n",
              "├─────────────────────────────────┼────────────────────────┼───────────────┤\n",
              "│ botnext7 (\u001b[38;5;33mConv2D\u001b[0m)               │ (\u001b[38;5;45mNone\u001b[0m, \u001b[38;5;34m28\u001b[0m, \u001b[38;5;34m28\u001b[0m, \u001b[38;5;34m1\u001b[0m)      │           \u001b[38;5;34m289\u001b[0m │\n",
              "└─────────────────────────────────┴────────────────────────┴───────────────┘\n"
            ],
            "text/html": [
              "<pre style=\"white-space:pre;overflow-x:auto;line-height:normal;font-family:Menlo,'DejaVu Sans Mono',consolas,'Courier New',monospace\">┏━━━━━━━━━━━━━━━━━━━━━━━━━━━━━━━━━┳━━━━━━━━━━━━━━━━━━━━━━━━┳━━━━━━━━━━━━━━━┓\n",
              "┃<span style=\"font-weight: bold\"> Layer (type)                    </span>┃<span style=\"font-weight: bold\"> Output Shape           </span>┃<span style=\"font-weight: bold\">       Param # </span>┃\n",
              "┡━━━━━━━━━━━━━━━━━━━━━━━━━━━━━━━━━╇━━━━━━━━━━━━━━━━━━━━━━━━╇━━━━━━━━━━━━━━━┩\n",
              "│ input_layer_14 (<span style=\"color: #0087ff; text-decoration-color: #0087ff\">InputLayer</span>)     │ (<span style=\"color: #00d7ff; text-decoration-color: #00d7ff\">None</span>, <span style=\"color: #00af00; text-decoration-color: #00af00\">28</span>, <span style=\"color: #00af00; text-decoration-color: #00af00\">28</span>, <span style=\"color: #00af00; text-decoration-color: #00af00\">1</span>)      │             <span style=\"color: #00af00; text-decoration-color: #00af00\">0</span> │\n",
              "├─────────────────────────────────┼────────────────────────┼───────────────┤\n",
              "│ conv2d_32 (<span style=\"color: #0087ff; text-decoration-color: #0087ff\">Conv2D</span>)              │ (<span style=\"color: #00d7ff; text-decoration-color: #00d7ff\">None</span>, <span style=\"color: #00af00; text-decoration-color: #00af00\">28</span>, <span style=\"color: #00af00; text-decoration-color: #00af00\">28</span>, <span style=\"color: #00af00; text-decoration-color: #00af00\">32</span>)     │           <span style=\"color: #00af00; text-decoration-color: #00af00\">320</span> │\n",
              "├─────────────────────────────────┼────────────────────────┼───────────────┤\n",
              "│ max_pooling2d_30 (<span style=\"color: #0087ff; text-decoration-color: #0087ff\">MaxPooling2D</span>) │ (<span style=\"color: #00d7ff; text-decoration-color: #00d7ff\">None</span>, <span style=\"color: #00af00; text-decoration-color: #00af00\">14</span>, <span style=\"color: #00af00; text-decoration-color: #00af00\">14</span>, <span style=\"color: #00af00; text-decoration-color: #00af00\">32</span>)     │             <span style=\"color: #00af00; text-decoration-color: #00af00\">0</span> │\n",
              "├─────────────────────────────────┼────────────────────────┼───────────────┤\n",
              "│ conv2d_33 (<span style=\"color: #0087ff; text-decoration-color: #0087ff\">Conv2D</span>)              │ (<span style=\"color: #00d7ff; text-decoration-color: #00d7ff\">None</span>, <span style=\"color: #00af00; text-decoration-color: #00af00\">14</span>, <span style=\"color: #00af00; text-decoration-color: #00af00\">14</span>, <span style=\"color: #00af00; text-decoration-color: #00af00\">32</span>)     │         <span style=\"color: #00af00; text-decoration-color: #00af00\">9,248</span> │\n",
              "├─────────────────────────────────┼────────────────────────┼───────────────┤\n",
              "│ max_pooling2d_31 (<span style=\"color: #0087ff; text-decoration-color: #0087ff\">MaxPooling2D</span>) │ (<span style=\"color: #00d7ff; text-decoration-color: #00d7ff\">None</span>, <span style=\"color: #00af00; text-decoration-color: #00af00\">7</span>, <span style=\"color: #00af00; text-decoration-color: #00af00\">7</span>, <span style=\"color: #00af00; text-decoration-color: #00af00\">32</span>)       │             <span style=\"color: #00af00; text-decoration-color: #00af00\">0</span> │\n",
              "├─────────────────────────────────┼────────────────────────┼───────────────┤\n",
              "│ conv2d_34 (<span style=\"color: #0087ff; text-decoration-color: #0087ff\">Conv2D</span>)              │ (<span style=\"color: #00d7ff; text-decoration-color: #00d7ff\">None</span>, <span style=\"color: #00af00; text-decoration-color: #00af00\">7</span>, <span style=\"color: #00af00; text-decoration-color: #00af00\">7</span>, <span style=\"color: #00af00; text-decoration-color: #00af00\">4</span>)        │         <span style=\"color: #00af00; text-decoration-color: #00af00\">1,156</span> │\n",
              "├─────────────────────────────────┼────────────────────────┼───────────────┤\n",
              "│ max_pooling2d_32 (<span style=\"color: #0087ff; text-decoration-color: #0087ff\">MaxPooling2D</span>) │ (<span style=\"color: #00d7ff; text-decoration-color: #00d7ff\">None</span>, <span style=\"color: #00af00; text-decoration-color: #00af00\">4</span>, <span style=\"color: #00af00; text-decoration-color: #00af00\">4</span>, <span style=\"color: #00af00; text-decoration-color: #00af00\">4</span>)        │             <span style=\"color: #00af00; text-decoration-color: #00af00\">0</span> │\n",
              "├─────────────────────────────────┼────────────────────────┼───────────────┤\n",
              "│ bot (<span style=\"color: #0087ff; text-decoration-color: #0087ff\">Flatten</span>)                   │ (<span style=\"color: #00d7ff; text-decoration-color: #00d7ff\">None</span>, <span style=\"color: #00af00; text-decoration-color: #00af00\">64</span>)             │             <span style=\"color: #00af00; text-decoration-color: #00af00\">0</span> │\n",
              "├─────────────────────────────────┼────────────────────────┼───────────────┤\n",
              "│ botnext0 (<span style=\"color: #0087ff; text-decoration-color: #0087ff\">Reshape</span>)              │ (<span style=\"color: #00d7ff; text-decoration-color: #00d7ff\">None</span>, <span style=\"color: #00af00; text-decoration-color: #00af00\">4</span>, <span style=\"color: #00af00; text-decoration-color: #00af00\">4</span>, <span style=\"color: #00af00; text-decoration-color: #00af00\">4</span>)        │             <span style=\"color: #00af00; text-decoration-color: #00af00\">0</span> │\n",
              "├─────────────────────────────────┼────────────────────────┼───────────────┤\n",
              "│ botnext1 (<span style=\"color: #0087ff; text-decoration-color: #0087ff\">Conv2D</span>)               │ (<span style=\"color: #00d7ff; text-decoration-color: #00d7ff\">None</span>, <span style=\"color: #00af00; text-decoration-color: #00af00\">4</span>, <span style=\"color: #00af00; text-decoration-color: #00af00\">4</span>, <span style=\"color: #00af00; text-decoration-color: #00af00\">4</span>)        │           <span style=\"color: #00af00; text-decoration-color: #00af00\">148</span> │\n",
              "├─────────────────────────────────┼────────────────────────┼───────────────┤\n",
              "│ botnext2 (<span style=\"color: #0087ff; text-decoration-color: #0087ff\">UpSampling2D</span>)         │ (<span style=\"color: #00d7ff; text-decoration-color: #00d7ff\">None</span>, <span style=\"color: #00af00; text-decoration-color: #00af00\">8</span>, <span style=\"color: #00af00; text-decoration-color: #00af00\">8</span>, <span style=\"color: #00af00; text-decoration-color: #00af00\">4</span>)        │             <span style=\"color: #00af00; text-decoration-color: #00af00\">0</span> │\n",
              "├─────────────────────────────────┼────────────────────────┼───────────────┤\n",
              "│ botnext3 (<span style=\"color: #0087ff; text-decoration-color: #0087ff\">Conv2D</span>)               │ (<span style=\"color: #00d7ff; text-decoration-color: #00d7ff\">None</span>, <span style=\"color: #00af00; text-decoration-color: #00af00\">8</span>, <span style=\"color: #00af00; text-decoration-color: #00af00\">8</span>, <span style=\"color: #00af00; text-decoration-color: #00af00\">32</span>)       │         <span style=\"color: #00af00; text-decoration-color: #00af00\">1,184</span> │\n",
              "├─────────────────────────────────┼────────────────────────┼───────────────┤\n",
              "│ botnext4 (<span style=\"color: #0087ff; text-decoration-color: #0087ff\">UpSampling2D</span>)         │ (<span style=\"color: #00d7ff; text-decoration-color: #00d7ff\">None</span>, <span style=\"color: #00af00; text-decoration-color: #00af00\">16</span>, <span style=\"color: #00af00; text-decoration-color: #00af00\">16</span>, <span style=\"color: #00af00; text-decoration-color: #00af00\">32</span>)     │             <span style=\"color: #00af00; text-decoration-color: #00af00\">0</span> │\n",
              "├─────────────────────────────────┼────────────────────────┼───────────────┤\n",
              "│ botnext5 (<span style=\"color: #0087ff; text-decoration-color: #0087ff\">Conv2D</span>)               │ (<span style=\"color: #00d7ff; text-decoration-color: #00d7ff\">None</span>, <span style=\"color: #00af00; text-decoration-color: #00af00\">14</span>, <span style=\"color: #00af00; text-decoration-color: #00af00\">14</span>, <span style=\"color: #00af00; text-decoration-color: #00af00\">32</span>)     │         <span style=\"color: #00af00; text-decoration-color: #00af00\">9,248</span> │\n",
              "├─────────────────────────────────┼────────────────────────┼───────────────┤\n",
              "│ botnext6 (<span style=\"color: #0087ff; text-decoration-color: #0087ff\">UpSampling2D</span>)         │ (<span style=\"color: #00d7ff; text-decoration-color: #00d7ff\">None</span>, <span style=\"color: #00af00; text-decoration-color: #00af00\">28</span>, <span style=\"color: #00af00; text-decoration-color: #00af00\">28</span>, <span style=\"color: #00af00; text-decoration-color: #00af00\">32</span>)     │             <span style=\"color: #00af00; text-decoration-color: #00af00\">0</span> │\n",
              "├─────────────────────────────────┼────────────────────────┼───────────────┤\n",
              "│ botnext7 (<span style=\"color: #0087ff; text-decoration-color: #0087ff\">Conv2D</span>)               │ (<span style=\"color: #00d7ff; text-decoration-color: #00d7ff\">None</span>, <span style=\"color: #00af00; text-decoration-color: #00af00\">28</span>, <span style=\"color: #00af00; text-decoration-color: #00af00\">28</span>, <span style=\"color: #00af00; text-decoration-color: #00af00\">1</span>)      │           <span style=\"color: #00af00; text-decoration-color: #00af00\">289</span> │\n",
              "└─────────────────────────────────┴────────────────────────┴───────────────┘\n",
              "</pre>\n"
            ]
          },
          "metadata": {}
        },
        {
          "output_type": "display_data",
          "data": {
            "text/plain": [
              "\u001b[1m Total params: \u001b[0m\u001b[38;5;34m21,593\u001b[0m (84.35 KB)\n"
            ],
            "text/html": [
              "<pre style=\"white-space:pre;overflow-x:auto;line-height:normal;font-family:Menlo,'DejaVu Sans Mono',consolas,'Courier New',monospace\"><span style=\"font-weight: bold\"> Total params: </span><span style=\"color: #00af00; text-decoration-color: #00af00\">21,593</span> (84.35 KB)\n",
              "</pre>\n"
            ]
          },
          "metadata": {}
        },
        {
          "output_type": "display_data",
          "data": {
            "text/plain": [
              "\u001b[1m Trainable params: \u001b[0m\u001b[38;5;34m21,593\u001b[0m (84.35 KB)\n"
            ],
            "text/html": [
              "<pre style=\"white-space:pre;overflow-x:auto;line-height:normal;font-family:Menlo,'DejaVu Sans Mono',consolas,'Courier New',monospace\"><span style=\"font-weight: bold\"> Trainable params: </span><span style=\"color: #00af00; text-decoration-color: #00af00\">21,593</span> (84.35 KB)\n",
              "</pre>\n"
            ]
          },
          "metadata": {}
        },
        {
          "output_type": "display_data",
          "data": {
            "text/plain": [
              "\u001b[1m Non-trainable params: \u001b[0m\u001b[38;5;34m0\u001b[0m (0.00 B)\n"
            ],
            "text/html": [
              "<pre style=\"white-space:pre;overflow-x:auto;line-height:normal;font-family:Menlo,'DejaVu Sans Mono',consolas,'Courier New',monospace\"><span style=\"font-weight: bold\"> Non-trainable params: </span><span style=\"color: #00af00; text-decoration-color: #00af00\">0</span> (0.00 B)\n",
              "</pre>\n"
            ]
          },
          "metadata": {}
        }
      ]
    },
    {
      "cell_type": "markdown",
      "source": [
        "> train the denoise model"
      ],
      "metadata": {
        "id": "exBfK066Z9ri"
      }
    },
    {
      "cell_type": "code",
      "source": [
        "Ae_Conv_denoise.fit(\n",
        "    x_train_noisy,\n",
        "    x_train,\n",
        "    epochs = 100,\n",
        "    batch_size = 128,\n",
        "    shuffle = True,\n",
        "    validation_split = 0.2,\n",
        "    verbose = 2\n",
        ")\n"
      ],
      "metadata": {
        "colab": {
          "base_uri": "https://localhost:8080/"
        },
        "id": "c5O4Z0iOaBEb",
        "outputId": "5b4891b0-3f10-435e-8bc1-0d2ac900a835"
      },
      "execution_count": 155,
      "outputs": [
        {
          "output_type": "stream",
          "name": "stdout",
          "text": [
            "Epoch 1/100\n",
            "375/375 - 7s - 19ms/step - accuracy: 0.7575 - loss: 0.3697 - val_accuracy: 0.7937 - val_loss: 0.2495\n",
            "Epoch 2/100\n",
            "375/375 - 2s - 6ms/step - accuracy: 0.7910 - loss: 0.2330 - val_accuracy: 0.7894 - val_loss: 0.2229\n",
            "Epoch 3/100\n",
            "375/375 - 2s - 6ms/step - accuracy: 0.7893 - loss: 0.2174 - val_accuracy: 0.7893 - val_loss: 0.2139\n",
            "Epoch 4/100\n",
            "375/375 - 3s - 7ms/step - accuracy: 0.7904 - loss: 0.2103 - val_accuracy: 0.7912 - val_loss: 0.2080\n",
            "Epoch 5/100\n",
            "375/375 - 3s - 8ms/step - accuracy: 0.7914 - loss: 0.2049 - val_accuracy: 0.7933 - val_loss: 0.2032\n",
            "Epoch 6/100\n",
            "375/375 - 5s - 13ms/step - accuracy: 0.7924 - loss: 0.2004 - val_accuracy: 0.7944 - val_loss: 0.1990\n",
            "Epoch 7/100\n",
            "375/375 - 2s - 7ms/step - accuracy: 0.7935 - loss: 0.1963 - val_accuracy: 0.7978 - val_loss: 0.1960\n",
            "Epoch 8/100\n",
            "375/375 - 3s - 7ms/step - accuracy: 0.7946 - loss: 0.1926 - val_accuracy: 0.7965 - val_loss: 0.1914\n",
            "Epoch 9/100\n",
            "375/375 - 3s - 7ms/step - accuracy: 0.7956 - loss: 0.1886 - val_accuracy: 0.7934 - val_loss: 0.1881\n",
            "Epoch 10/100\n",
            "375/375 - 2s - 6ms/step - accuracy: 0.7965 - loss: 0.1852 - val_accuracy: 0.7988 - val_loss: 0.1840\n",
            "Epoch 11/100\n",
            "375/375 - 3s - 8ms/step - accuracy: 0.7972 - loss: 0.1824 - val_accuracy: 0.7963 - val_loss: 0.1815\n",
            "Epoch 12/100\n",
            "375/375 - 5s - 13ms/step - accuracy: 0.7977 - loss: 0.1800 - val_accuracy: 0.8023 - val_loss: 0.1805\n",
            "Epoch 13/100\n",
            "375/375 - 3s - 7ms/step - accuracy: 0.7982 - loss: 0.1779 - val_accuracy: 0.8020 - val_loss: 0.1780\n",
            "Epoch 14/100\n",
            "375/375 - 2s - 6ms/step - accuracy: 0.7985 - loss: 0.1765 - val_accuracy: 0.8030 - val_loss: 0.1769\n",
            "Epoch 15/100\n",
            "375/375 - 2s - 6ms/step - accuracy: 0.7990 - loss: 0.1744 - val_accuracy: 0.8028 - val_loss: 0.1745\n",
            "Epoch 16/100\n",
            "375/375 - 3s - 7ms/step - accuracy: 0.7993 - loss: 0.1731 - val_accuracy: 0.8006 - val_loss: 0.1719\n",
            "Epoch 17/100\n",
            "375/375 - 3s - 8ms/step - accuracy: 0.7997 - loss: 0.1714 - val_accuracy: 0.8010 - val_loss: 0.1704\n",
            "Epoch 18/100\n",
            "375/375 - 2s - 6ms/step - accuracy: 0.8001 - loss: 0.1699 - val_accuracy: 0.7981 - val_loss: 0.1700\n",
            "Epoch 19/100\n",
            "375/375 - 2s - 6ms/step - accuracy: 0.8004 - loss: 0.1689 - val_accuracy: 0.8031 - val_loss: 0.1681\n",
            "Epoch 20/100\n",
            "375/375 - 2s - 6ms/step - accuracy: 0.8007 - loss: 0.1675 - val_accuracy: 0.8014 - val_loss: 0.1666\n",
            "Epoch 21/100\n",
            "375/375 - 2s - 6ms/step - accuracy: 0.8009 - loss: 0.1664 - val_accuracy: 0.8007 - val_loss: 0.1657\n",
            "Epoch 22/100\n",
            "375/375 - 3s - 8ms/step - accuracy: 0.8012 - loss: 0.1653 - val_accuracy: 0.8019 - val_loss: 0.1644\n",
            "Epoch 23/100\n",
            "375/375 - 5s - 13ms/step - accuracy: 0.8014 - loss: 0.1643 - val_accuracy: 0.8057 - val_loss: 0.1657\n",
            "Epoch 24/100\n",
            "375/375 - 2s - 6ms/step - accuracy: 0.8016 - loss: 0.1635 - val_accuracy: 0.8030 - val_loss: 0.1625\n",
            "Epoch 25/100\n",
            "375/375 - 3s - 7ms/step - accuracy: 0.8019 - loss: 0.1625 - val_accuracy: 0.8004 - val_loss: 0.1625\n",
            "Epoch 26/100\n",
            "375/375 - 2s - 6ms/step - accuracy: 0.8021 - loss: 0.1616 - val_accuracy: 0.8031 - val_loss: 0.1608\n",
            "Epoch 27/100\n",
            "375/375 - 2s - 7ms/step - accuracy: 0.8022 - loss: 0.1610 - val_accuracy: 0.8069 - val_loss: 0.1631\n",
            "Epoch 28/100\n",
            "375/375 - 2s - 6ms/step - accuracy: 0.8025 - loss: 0.1600 - val_accuracy: 0.8054 - val_loss: 0.1601\n",
            "Epoch 29/100\n",
            "375/375 - 3s - 7ms/step - accuracy: 0.8027 - loss: 0.1589 - val_accuracy: 0.8029 - val_loss: 0.1585\n",
            "Epoch 30/100\n",
            "375/375 - 2s - 6ms/step - accuracy: 0.8029 - loss: 0.1584 - val_accuracy: 0.8022 - val_loss: 0.1582\n",
            "Epoch 31/100\n",
            "375/375 - 3s - 7ms/step - accuracy: 0.8030 - loss: 0.1580 - val_accuracy: 0.8057 - val_loss: 0.1578\n",
            "Epoch 32/100\n",
            "375/375 - 2s - 6ms/step - accuracy: 0.8032 - loss: 0.1570 - val_accuracy: 0.8046 - val_loss: 0.1565\n",
            "Epoch 33/100\n",
            "375/375 - 2s - 6ms/step - accuracy: 0.8033 - loss: 0.1566 - val_accuracy: 0.8054 - val_loss: 0.1563\n",
            "Epoch 34/100\n",
            "375/375 - 3s - 7ms/step - accuracy: 0.8034 - loss: 0.1562 - val_accuracy: 0.8038 - val_loss: 0.1555\n",
            "Epoch 35/100\n",
            "375/375 - 3s - 7ms/step - accuracy: 0.8035 - loss: 0.1555 - val_accuracy: 0.8071 - val_loss: 0.1565\n",
            "Epoch 36/100\n",
            "375/375 - 3s - 8ms/step - accuracy: 0.8036 - loss: 0.1552 - val_accuracy: 0.8007 - val_loss: 0.1569\n",
            "Epoch 37/100\n",
            "375/375 - 2s - 6ms/step - accuracy: 0.8038 - loss: 0.1544 - val_accuracy: 0.8011 - val_loss: 0.1560\n",
            "Epoch 38/100\n",
            "375/375 - 3s - 7ms/step - accuracy: 0.8038 - loss: 0.1540 - val_accuracy: 0.8011 - val_loss: 0.1555\n",
            "Epoch 39/100\n",
            "375/375 - 2s - 6ms/step - accuracy: 0.8040 - loss: 0.1533 - val_accuracy: 0.8081 - val_loss: 0.1560\n",
            "Epoch 40/100\n",
            "375/375 - 2s - 6ms/step - accuracy: 0.8041 - loss: 0.1529 - val_accuracy: 0.8038 - val_loss: 0.1528\n",
            "Epoch 41/100\n",
            "375/375 - 2s - 7ms/step - accuracy: 0.8041 - loss: 0.1527 - val_accuracy: 0.8075 - val_loss: 0.1535\n",
            "Epoch 42/100\n",
            "375/375 - 2s - 6ms/step - accuracy: 0.8043 - loss: 0.1521 - val_accuracy: 0.8006 - val_loss: 0.1548\n",
            "Epoch 43/100\n",
            "375/375 - 2s - 7ms/step - accuracy: 0.8044 - loss: 0.1516 - val_accuracy: 0.8034 - val_loss: 0.1520\n",
            "Epoch 44/100\n",
            "375/375 - 3s - 7ms/step - accuracy: 0.8044 - loss: 0.1512 - val_accuracy: 0.8060 - val_loss: 0.1509\n",
            "Epoch 45/100\n",
            "375/375 - 3s - 7ms/step - accuracy: 0.8045 - loss: 0.1511 - val_accuracy: 0.8085 - val_loss: 0.1535\n",
            "Epoch 46/100\n",
            "375/375 - 2s - 7ms/step - accuracy: 0.8046 - loss: 0.1505 - val_accuracy: 0.8021 - val_loss: 0.1521\n",
            "Epoch 47/100\n",
            "375/375 - 2s - 6ms/step - accuracy: 0.8047 - loss: 0.1500 - val_accuracy: 0.8040 - val_loss: 0.1503\n",
            "Epoch 48/100\n",
            "375/375 - 2s - 6ms/step - accuracy: 0.8048 - loss: 0.1496 - val_accuracy: 0.8044 - val_loss: 0.1498\n",
            "Epoch 49/100\n",
            "375/375 - 2s - 7ms/step - accuracy: 0.8048 - loss: 0.1493 - val_accuracy: 0.8029 - val_loss: 0.1505\n",
            "Epoch 50/100\n",
            "375/375 - 2s - 6ms/step - accuracy: 0.8049 - loss: 0.1489 - val_accuracy: 0.8073 - val_loss: 0.1494\n",
            "Epoch 51/100\n",
            "375/375 - 3s - 7ms/step - accuracy: 0.8050 - loss: 0.1486 - val_accuracy: 0.8043 - val_loss: 0.1489\n",
            "Epoch 52/100\n",
            "375/375 - 2s - 6ms/step - accuracy: 0.8050 - loss: 0.1483 - val_accuracy: 0.8004 - val_loss: 0.1528\n",
            "Epoch 53/100\n",
            "375/375 - 3s - 7ms/step - accuracy: 0.8050 - loss: 0.1483 - val_accuracy: 0.8031 - val_loss: 0.1495\n",
            "Epoch 54/100\n",
            "375/375 - 3s - 7ms/step - accuracy: 0.8051 - loss: 0.1478 - val_accuracy: 0.8070 - val_loss: 0.1476\n",
            "Epoch 55/100\n",
            "375/375 - 2s - 6ms/step - accuracy: 0.8053 - loss: 0.1470 - val_accuracy: 0.8026 - val_loss: 0.1494\n",
            "Epoch 56/100\n",
            "375/375 - 3s - 8ms/step - accuracy: 0.8053 - loss: 0.1469 - val_accuracy: 0.8082 - val_loss: 0.1480\n",
            "Epoch 57/100\n",
            "375/375 - 2s - 6ms/step - accuracy: 0.8054 - loss: 0.1465 - val_accuracy: 0.8045 - val_loss: 0.1472\n",
            "Epoch 58/100\n",
            "375/375 - 2s - 6ms/step - accuracy: 0.8054 - loss: 0.1464 - val_accuracy: 0.8066 - val_loss: 0.1461\n",
            "Epoch 59/100\n",
            "375/375 - 2s - 6ms/step - accuracy: 0.8054 - loss: 0.1463 - val_accuracy: 0.8093 - val_loss: 0.1496\n",
            "Epoch 60/100\n",
            "375/375 - 2s - 6ms/step - accuracy: 0.8055 - loss: 0.1458 - val_accuracy: 0.8051 - val_loss: 0.1460\n",
            "Epoch 61/100\n",
            "375/375 - 2s - 7ms/step - accuracy: 0.8056 - loss: 0.1454 - val_accuracy: 0.8080 - val_loss: 0.1460\n",
            "Epoch 62/100\n",
            "375/375 - 2s - 6ms/step - accuracy: 0.8056 - loss: 0.1452 - val_accuracy: 0.8087 - val_loss: 0.1470\n",
            "Epoch 63/100\n",
            "375/375 - 2s - 6ms/step - accuracy: 0.8057 - loss: 0.1450 - val_accuracy: 0.8090 - val_loss: 0.1469\n",
            "Epoch 64/100\n",
            "375/375 - 2s - 6ms/step - accuracy: 0.8057 - loss: 0.1446 - val_accuracy: 0.8062 - val_loss: 0.1445\n",
            "Epoch 65/100\n",
            "375/375 - 3s - 7ms/step - accuracy: 0.8058 - loss: 0.1445 - val_accuracy: 0.8062 - val_loss: 0.1442\n",
            "Epoch 66/100\n",
            "375/375 - 3s - 8ms/step - accuracy: 0.8058 - loss: 0.1442 - val_accuracy: 0.8087 - val_loss: 0.1453\n",
            "Epoch 67/100\n",
            "375/375 - 2s - 6ms/step - accuracy: 0.8059 - loss: 0.1436 - val_accuracy: 0.8080 - val_loss: 0.1441\n",
            "Epoch 68/100\n",
            "375/375 - 2s - 6ms/step - accuracy: 0.8060 - loss: 0.1435 - val_accuracy: 0.8052 - val_loss: 0.1441\n",
            "Epoch 69/100\n",
            "375/375 - 2s - 6ms/step - accuracy: 0.8060 - loss: 0.1432 - val_accuracy: 0.8032 - val_loss: 0.1460\n",
            "Epoch 70/100\n",
            "375/375 - 3s - 7ms/step - accuracy: 0.8060 - loss: 0.1430 - val_accuracy: 0.8082 - val_loss: 0.1436\n",
            "Epoch 71/100\n",
            "375/375 - 3s - 8ms/step - accuracy: 0.8061 - loss: 0.1429 - val_accuracy: 0.8051 - val_loss: 0.1436\n",
            "Epoch 72/100\n",
            "375/375 - 5s - 12ms/step - accuracy: 0.8062 - loss: 0.1421 - val_accuracy: 0.8089 - val_loss: 0.1438\n",
            "Epoch 73/100\n",
            "375/375 - 2s - 6ms/step - accuracy: 0.8062 - loss: 0.1421 - val_accuracy: 0.8092 - val_loss: 0.1443\n",
            "Epoch 74/100\n",
            "375/375 - 3s - 7ms/step - accuracy: 0.8062 - loss: 0.1420 - val_accuracy: 0.8046 - val_loss: 0.1434\n",
            "Epoch 75/100\n",
            "375/375 - 3s - 8ms/step - accuracy: 0.8062 - loss: 0.1418 - val_accuracy: 0.8090 - val_loss: 0.1430\n",
            "Epoch 76/100\n",
            "375/375 - 2s - 6ms/step - accuracy: 0.8063 - loss: 0.1415 - val_accuracy: 0.8066 - val_loss: 0.1415\n",
            "Epoch 77/100\n",
            "375/375 - 3s - 7ms/step - accuracy: 0.8063 - loss: 0.1415 - val_accuracy: 0.8093 - val_loss: 0.1429\n",
            "Epoch 78/100\n",
            "375/375 - 2s - 6ms/step - accuracy: 0.8064 - loss: 0.1412 - val_accuracy: 0.8033 - val_loss: 0.1443\n",
            "Epoch 79/100\n",
            "375/375 - 2s - 6ms/step - accuracy: 0.8064 - loss: 0.1406 - val_accuracy: 0.8074 - val_loss: 0.1407\n",
            "Epoch 80/100\n",
            "375/375 - 3s - 7ms/step - accuracy: 0.8064 - loss: 0.1406 - val_accuracy: 0.8074 - val_loss: 0.1405\n",
            "Epoch 81/100\n",
            "375/375 - 5s - 13ms/step - accuracy: 0.8065 - loss: 0.1404 - val_accuracy: 0.8095 - val_loss: 0.1419\n",
            "Epoch 82/100\n",
            "375/375 - 2s - 6ms/step - accuracy: 0.8065 - loss: 0.1404 - val_accuracy: 0.8099 - val_loss: 0.1431\n",
            "Epoch 83/100\n",
            "375/375 - 2s - 6ms/step - accuracy: 0.8065 - loss: 0.1400 - val_accuracy: 0.8094 - val_loss: 0.1414\n",
            "Epoch 84/100\n",
            "375/375 - 3s - 8ms/step - accuracy: 0.8066 - loss: 0.1398 - val_accuracy: 0.8075 - val_loss: 0.1397\n",
            "Epoch 85/100\n",
            "375/375 - 2s - 6ms/step - accuracy: 0.8066 - loss: 0.1396 - val_accuracy: 0.8090 - val_loss: 0.1403\n",
            "Epoch 86/100\n",
            "375/375 - 3s - 7ms/step - accuracy: 0.8067 - loss: 0.1392 - val_accuracy: 0.8096 - val_loss: 0.1413\n",
            "Epoch 87/100\n",
            "375/375 - 3s - 8ms/step - accuracy: 0.8067 - loss: 0.1389 - val_accuracy: 0.8072 - val_loss: 0.1391\n",
            "Epoch 88/100\n",
            "375/375 - 2s - 6ms/step - accuracy: 0.8067 - loss: 0.1389 - val_accuracy: 0.8094 - val_loss: 0.1401\n",
            "Epoch 89/100\n",
            "375/375 - 2s - 7ms/step - accuracy: 0.8068 - loss: 0.1387 - val_accuracy: 0.8093 - val_loss: 0.1400\n",
            "Epoch 90/100\n",
            "375/375 - 2s - 6ms/step - accuracy: 0.8068 - loss: 0.1387 - val_accuracy: 0.8094 - val_loss: 0.1396\n",
            "Epoch 91/100\n",
            "375/375 - 2s - 6ms/step - accuracy: 0.8068 - loss: 0.1385 - val_accuracy: 0.8097 - val_loss: 0.1401\n",
            "Epoch 92/100\n",
            "375/375 - 2s - 7ms/step - accuracy: 0.8069 - loss: 0.1383 - val_accuracy: 0.8057 - val_loss: 0.1393\n",
            "Epoch 93/100\n",
            "375/375 - 2s - 6ms/step - accuracy: 0.8069 - loss: 0.1381 - val_accuracy: 0.8067 - val_loss: 0.1384\n",
            "Epoch 94/100\n",
            "375/375 - 3s - 8ms/step - accuracy: 0.8069 - loss: 0.1379 - val_accuracy: 0.8082 - val_loss: 0.1380\n",
            "Epoch 95/100\n",
            "375/375 - 5s - 13ms/step - accuracy: 0.8069 - loss: 0.1377 - val_accuracy: 0.8090 - val_loss: 0.1380\n",
            "Epoch 96/100\n",
            "375/375 - 2s - 6ms/step - accuracy: 0.8070 - loss: 0.1375 - val_accuracy: 0.8103 - val_loss: 0.1402\n",
            "Epoch 97/100\n",
            "375/375 - 3s - 7ms/step - accuracy: 0.8070 - loss: 0.1374 - val_accuracy: 0.8058 - val_loss: 0.1387\n",
            "Epoch 98/100\n",
            "375/375 - 3s - 7ms/step - accuracy: 0.8070 - loss: 0.1373 - val_accuracy: 0.8093 - val_loss: 0.1380\n",
            "Epoch 99/100\n",
            "375/375 - 2s - 6ms/step - accuracy: 0.8070 - loss: 0.1373 - val_accuracy: 0.8094 - val_loss: 0.1377\n",
            "Epoch 100/100\n",
            "375/375 - 2s - 6ms/step - accuracy: 0.8071 - loss: 0.1371 - val_accuracy: 0.8077 - val_loss: 0.1369\n"
          ]
        },
        {
          "output_type": "execute_result",
          "data": {
            "text/plain": [
              "<keras.src.callbacks.history.History at 0x7d40c84d92d0>"
            ]
          },
          "metadata": {},
          "execution_count": 155
        }
      ]
    },
    {
      "cell_type": "markdown",
      "source": [
        "> test the denoise model"
      ],
      "metadata": {
        "id": "TxzxoSjHacy3"
      }
    },
    {
      "cell_type": "code",
      "source": [
        "denoised_decoded_images = Ae_Conv_denoise.predict(x_test_noisy)\n",
        "n = 10\n",
        "k = 12\n",
        "plt.figure(figsize=(20,4))\n",
        "for i in range(n):\n",
        "  # orignal images\n",
        "  ax = plt.subplot(2,n,i+1)\n",
        "  plt.imshow(x_test_noisy[i*k].reshape(28,28))\n",
        "  plt.gray()\n",
        "  ax.get_xaxis().set_visible(False)\n",
        "  ax.get_yaxis().set_visible(False)\n",
        "\n",
        "  # denoise images\n",
        "  ax = plt.subplot(2,n,i+1+n)\n",
        "  plt.imshow(denoised_decoded_images[i*k].reshape(28,28))\n",
        "  plt.gray()\n",
        "  ax.get_xaxis().set_visible(False)\n",
        "  ax.get_yaxis().set_visible(False)\n",
        "plt.show()\n",
        "plt.close()"
      ],
      "metadata": {
        "colab": {
          "base_uri": "https://localhost:8080/",
          "height": 238
        },
        "id": "qo18_d5zagT5",
        "outputId": "a47de435-6077-49ec-a473-0368f2fe375e"
      },
      "execution_count": 156,
      "outputs": [
        {
          "output_type": "stream",
          "name": "stdout",
          "text": [
            "\u001b[1m313/313\u001b[0m \u001b[32m━━━━━━━━━━━━━━━━━━━━\u001b[0m\u001b[37m\u001b[0m \u001b[1m1s\u001b[0m 3ms/step\n"
          ]
        },
        {
          "output_type": "display_data",
          "data": {
            "text/plain": [
              "<Figure size 2000x400 with 20 Axes>"
            ],
            "image/png": "[encoded data removed]"
          },
          "metadata": {}
        }
      ]
    }
  ]
}